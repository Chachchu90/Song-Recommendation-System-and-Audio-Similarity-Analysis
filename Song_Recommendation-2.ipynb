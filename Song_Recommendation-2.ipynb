{
 "cells": [
  {
   "cell_type": "code",
   "execution_count": 56,
   "metadata": {},
   "outputs": [
    {
     "data": {
      "text/html": [
       "<style>pre { white-space: pre !important; }table.dataframe td { white-space: nowrap !important; }table.dataframe thead th:first-child, table.dataframe tbody th { display: none; }</style>"
      ],
      "text/plain": [
       "<IPython.core.display.HTML object>"
      ]
     },
     "metadata": {},
     "output_type": "display_data"
    }
   ],
   "source": [
    "# Run this cell to import pyspark and to define start_spark() and stop_spark()\n",
    "\n",
    "import findspark\n",
    "\n",
    "findspark.init()\n",
    "\n",
    "import getpass\n",
    "import pandas\n",
    "import pyspark\n",
    "import random\n",
    "import re\n",
    "\n",
    "from IPython.display import display, HTML\n",
    "from pyspark import SparkContext\n",
    "from pyspark.sql import SparkSession\n",
    "\n",
    "\n",
    "# Functions used below\n",
    "\n",
    "def username():\n",
    "    \"\"\"Get username with any domain information removed.\n",
    "    \"\"\"\n",
    "\n",
    "    return re.sub('@.*', '', getpass.getuser())\n",
    "\n",
    "\n",
    "def dict_to_html(d):\n",
    "    \"\"\"Convert a Python dictionary into a two column table for display.\n",
    "    \"\"\"\n",
    "\n",
    "    html = []\n",
    "\n",
    "    html.append(f'<table width=\"100%\" style=\"width:100%; font-family: monospace;\">')\n",
    "    for k, v in d.items():\n",
    "        html.append(f'<tr><td style=\"text-align:left;\">{k}</td><td>{v}</td></tr>')\n",
    "    html.append(f'</table>')\n",
    "\n",
    "    return ''.join(html)\n",
    "\n",
    "\n",
    "def show_as_html(df, n=20):\n",
    "    \"\"\"Leverage existing pandas jupyter integration to show a spark dataframe as html.\n",
    "    \n",
    "    Args:\n",
    "        n (int): number of rows to show (default: 20)\n",
    "    \"\"\"\n",
    "\n",
    "    display(df.limit(n).toPandas())\n",
    "\n",
    "    \n",
    "def display_spark():\n",
    "    \"\"\"Display the status of the active Spark session if one is currently running.\n",
    "    \"\"\"\n",
    "    \n",
    "    if 'spark' in globals() and 'sc' in globals():\n",
    "\n",
    "        name = sc.getConf().get(\"spark.app.name\")\n",
    "        \n",
    "        html = [\n",
    "            f'<p><b>Spark</b></p>',\n",
    "            f'<p>The spark session is <b><span style=\"color:green\">active</span></b>, look for <code>{name}</code> under the running applications section in the Spark UI.</p>',\n",
    "            f'<ul>',\n",
    "            f'<li><a href=\"http://mathmadslinux2p.canterbury.ac.nz:8080/\" target=\"_blank\">Spark UI</a></li>',\n",
    "            f'<li><a href=\"{sc.uiWebUrl}\" target=\"_blank\">Spark Application UI</a></li>',\n",
    "            f'</ul>',\n",
    "            f'<p><b>Config</b></p>',\n",
    "            dict_to_html(dict(sc.getConf().getAll())),\n",
    "            f'<p><b>Notes</b></p>',\n",
    "            f'<ul>',\n",
    "            f'<li>The spark session <code>spark</code> and spark context <code>sc</code> global variables have been defined by <code>start_spark()</code>.</li>',\n",
    "            f'<li>Please run <code>stop_spark()</code> before closing the notebook or restarting the kernel or kill <code>{name}</code> by hand using the link in the Spark UI.</li>',\n",
    "            f'</ul>',\n",
    "        ]\n",
    "        display(HTML(''.join(html)))\n",
    "        \n",
    "    else:\n",
    "        \n",
    "        html = [\n",
    "            f'<p><b>Spark</b></p>',\n",
    "            f'<p>The spark session is <b><span style=\"color:red\">stopped</span></b>, confirm that <code>{username() + \" (jupyter)\"}</code> is under the completed applications section in the Spark UI.</p>',\n",
    "            f'<ul>',\n",
    "            f'<li><a href=\"http://mathmadslinux2p.canterbury.ac.nz:8080/\" target=\"_blank\">Spark UI</a></li>',\n",
    "            f'</ul>',\n",
    "        ]\n",
    "        display(HTML(''.join(html)))\n",
    "\n",
    "\n",
    "# Functions to start and stop spark\n",
    "\n",
    "def start_spark(executor_instances=2, executor_cores=1, worker_memory=1, master_memory=1):\n",
    "    \"\"\"Start a new Spark session and define globals for SparkSession (spark) and SparkContext (sc).\n",
    "    \n",
    "    Args:\n",
    "        executor_instances (int): number of executors (default: 2)\n",
    "        executor_cores (int): number of cores per executor (default: 1)\n",
    "        worker_memory (float): worker memory (default: 1)\n",
    "        master_memory (float): master memory (default: 1)\n",
    "    \"\"\"\n",
    "\n",
    "    global spark\n",
    "    global sc\n",
    "\n",
    "    user = username()\n",
    "    \n",
    "    cores = executor_instances * executor_cores\n",
    "    partitions = cores * 4\n",
    "    port = 4000 + random.randint(1, 999)\n",
    "\n",
    "    spark = (\n",
    "        SparkSession.builder\n",
    "        .master(\"spark://masternode2:7077\")\n",
    "        .config(\"spark.driver.extraJavaOptions\", f\"-Dderby.system.home=/tmp/{user}/spark/\")\n",
    "        .config(\"spark.dynamicAllocation.enabled\", \"false\")\n",
    "        .config(\"spark.executor.instances\", str(executor_instances))\n",
    "        .config(\"spark.executor.cores\", str(executor_cores))\n",
    "        .config(\"spark.cores.max\", str(cores))\n",
    "        .config(\"spark.executor.memory\", f\"{worker_memory}g\")\n",
    "        .config(\"spark.driver.memory\", f\"{master_memory}g\")\n",
    "        .config(\"spark.driver.maxResultSize\", \"0\")\n",
    "        .config(\"spark.sql.shuffle.partitions\", str(partitions))\n",
    "        .config(\"spark.ui.port\", str(port))\n",
    "        .appName(user + \" (jupyter)\")\n",
    "        .getOrCreate()\n",
    "    )\n",
    "    sc = SparkContext.getOrCreate()\n",
    "    \n",
    "    display_spark()\n",
    "\n",
    "    \n",
    "def stop_spark():\n",
    "    \"\"\"Stop the active Spark session and delete globals for SparkSession (spark) and SparkContext (sc).\n",
    "    \"\"\"\n",
    "\n",
    "    global spark\n",
    "    global sc\n",
    "\n",
    "    if 'spark' in globals() and 'sc' in globals():\n",
    "\n",
    "        spark.stop()\n",
    "\n",
    "        del spark\n",
    "        del sc\n",
    "\n",
    "    display_spark()\n",
    "\n",
    "\n",
    "# Make css changes to improve spark output readability\n",
    "\n",
    "html = [\n",
    "    '<style>',\n",
    "    'pre { white-space: pre !important; }',\n",
    "    'table.dataframe td { white-space: nowrap !important; }',\n",
    "    'table.dataframe thead th:first-child, table.dataframe tbody th { display: none; }',\n",
    "    '</style>',\n",
    "]\n",
    "display(HTML(''.join(html)))"
   ]
  },
  {
   "cell_type": "code",
   "execution_count": 57,
   "metadata": {},
   "outputs": [
    {
     "data": {
      "text/html": [
       "<p><b>Spark</b></p><p>The spark session is <b><span style=\"color:green\">active</span></b>, look for <code>cgo82 (jupyter)</code> under the running applications section in the Spark UI.</p><ul><li><a href=\"http://mathmadslinux2p.canterbury.ac.nz:8080/\" target=\"_blank\">Spark UI</a></li><li><a href=\"http://mathmadslinux2p.canterbury.ac.nz:4636\" target=\"_blank\">Spark Application UI</a></li></ul><p><b>Config</b></p><table width=\"100%\" style=\"width:100%; font-family: monospace;\"><tr><td style=\"text-align:left;\">spark.dynamicAllocation.enabled</td><td>false</td></tr><tr><td style=\"text-align:left;\">spark.executor.instances</td><td>4</td></tr><tr><td style=\"text-align:left;\">spark.driver.port</td><td>40483</td></tr><tr><td style=\"text-align:left;\">spark.driver.memory</td><td>4g</td></tr><tr><td style=\"text-align:left;\">spark.executor.memory</td><td>4g</td></tr><tr><td style=\"text-align:left;\">spark.master</td><td>spark://masternode2:7077</td></tr><tr><td style=\"text-align:left;\">spark.driver.extraJavaOptions</td><td>-Dderby.system.home=/tmp/cgo82/spark/</td></tr><tr><td style=\"text-align:left;\">spark.executor.id</td><td>driver</td></tr><tr><td style=\"text-align:left;\">spark.executor.cores</td><td>2</td></tr><tr><td style=\"text-align:left;\">spark.driver.host</td><td>mathmadslinux2p.canterbury.ac.nz</td></tr><tr><td style=\"text-align:left;\">spark.app.startTime</td><td>1717383753238</td></tr><tr><td style=\"text-align:left;\">spark.sql.shuffle.partitions</td><td>32</td></tr><tr><td style=\"text-align:left;\">spark.app.id</td><td>app-20240603150233-0794</td></tr><tr><td style=\"text-align:left;\">spark.sql.warehouse.dir</td><td>file:/users/home/cgo82/spark-warehouse</td></tr><tr><td style=\"text-align:left;\">spark.rdd.compress</td><td>True</td></tr><tr><td style=\"text-align:left;\">spark.app.name</td><td>cgo82 (jupyter)</td></tr><tr><td style=\"text-align:left;\">spark.serializer.objectStreamReset</td><td>100</td></tr><tr><td style=\"text-align:left;\">spark.driver.maxResultSize</td><td>0</td></tr><tr><td style=\"text-align:left;\">spark.cores.max</td><td>8</td></tr><tr><td style=\"text-align:left;\">spark.submit.pyFiles</td><td></td></tr><tr><td style=\"text-align:left;\">spark.submit.deployMode</td><td>client</td></tr><tr><td style=\"text-align:left;\">spark.ui.port</td><td>4636</td></tr><tr><td style=\"text-align:left;\">spark.ui.showConsoleProgress</td><td>true</td></tr></table><p><b>Notes</b></p><ul><li>The spark session <code>spark</code> and spark context <code>sc</code> global variables have been defined by <code>start_spark()</code>.</li><li>Please run <code>stop_spark()</code> before closing the notebook or restarting the kernel or kill <code>cgo82 (jupyter)</code> by hand using the link in the Spark UI.</li></ul>"
      ],
      "text/plain": [
       "<IPython.core.display.HTML object>"
      ]
     },
     "metadata": {},
     "output_type": "display_data"
    }
   ],
   "source": [
    "# Run this cell to start a spark session in this notebook\n",
    "\n",
    "start_spark(executor_instances=4, executor_cores=2, worker_memory=4, master_memory=4)"
   ]
  },
  {
   "cell_type": "code",
   "execution_count": 58,
   "metadata": {},
   "outputs": [],
   "source": [
    "# Helper functions\n",
    "\n",
    "def print_class_balance(data, name):\n",
    "    \"\"\"\n",
    "    \"\"\"\n",
    "\n",
    "    total = data.count()\n",
    "    counts = data.groupBy(\"label\").count().toPandas()\n",
    "    counts[\"ratio\"] = counts[\"count\"] / total\n",
    "\n",
    "    print(f'dataset: {name}')\n",
    "    print(f'total:   {total}')\n",
    "    print(f'counts:')\n",
    "    print(counts)\n",
    "    print(f'')\n",
    "\n",
    "    \n",
    "def with_custom_prediction(pred, threshold, probabilityCol=\"probability\", customPredictionCol=\"customPrediction\"):\n",
    "    \"\"\"\n",
    "    \"\"\"\n",
    "\n",
    "    apply_custom_threshold_udf = F.udf(lambda x: int(x[1] > threshold), IntegerType())\n",
    "\n",
    "    return pred.withColumn(customPredictionCol, apply_custom_threshold_udf(F.col(probabilityCol)))\n",
    "\n",
    "\n",
    "def print_metrics(pred, threshold=0.5, labelCol=\"label\", predictionCol=\"prediction\", rawPredictionCol=\"rawPrediction\", probabilityCol=\"probability\"):\n",
    "    \"\"\"\n",
    "    \"\"\"\n",
    "\n",
    "    if threshold != 0.5:\n",
    "\n",
    "        predictionCol = \"customPrediction\"\n",
    "        pred = with_custom_prediction(pred, threshold, probabilityCol=probabilityCol, customPredictionCol=predictionCol)\n",
    "\n",
    "    total = pred.count()\n",
    "\n",
    "    nP_actual = pred.filter((F.col(labelCol) == 1)).count()\n",
    "    nN_actual = pred.filter((F.col(labelCol) == 0)).count()\n",
    "\n",
    "    nP = pred.filter((F.col(predictionCol) == 1)).count()\n",
    "    nN = pred.filter((F.col(predictionCol) == 0)).count()\n",
    "    TP = pred.filter((F.col(predictionCol) == 1) & (F.col(labelCol) == 1)).count()\n",
    "    FP = pred.filter((F.col(predictionCol) == 1) & (F.col(labelCol) == 0)).count()\n",
    "    FN = pred.filter((F.col(predictionCol) == 0) & (F.col(labelCol) == 1)).count()\n",
    "    TN = pred.filter((F.col(predictionCol) == 0) & (F.col(labelCol) == 0)).count()\n",
    "\n",
    "    if TP + FP > 0:\n",
    "        precision = TP / (TP + FP)\n",
    "    else:\n",
    "        precision = 0\n",
    "        \n",
    "    recall = TP / (TP + FN)\n",
    "    accuracy = (TP + TN) / total\n",
    "\n",
    "    binary_evaluator = BinaryClassificationEvaluator(rawPredictionCol=rawPredictionCol, labelCol=labelCol, metricName='areaUnderROC')\n",
    "    auroc = binary_evaluator.evaluate(pred)\n",
    "\n",
    "    print(f'metrics for custom threshold')\n",
    "    print(f'')\n",
    "    print(f'threshold: {threshold}')\n",
    "    print(f'')\n",
    "    print(f'total:     {total}')\n",
    "    print(f'')\n",
    "    print(f'nP actual: {nP_actual}')\n",
    "    print(f'nN actual: {nN_actual}')\n",
    "    print(f'')\n",
    "    print(f'nP:        {nP}')\n",
    "    print(f'nN:        {nN}')\n",
    "    print(f'')\n",
    "    print(f'TP         {TP}')\n",
    "    print(f'FP         {FP}')\n",
    "    print(f'FN         {FN}')\n",
    "    print(f'TN         {TN}')\n",
    "    print(f'')\n",
    "    print(f'precision: {precision:.8f}')\n",
    "    print(f'recall:    {recall:.8f}')\n",
    "    print(f'accuracy:  {accuracy:.8f}')\n",
    "    print(f'')\n",
    "    print(f'auroc:     {auroc:.8f}')\n",
    "    print(f'')\n",
    "# Write your imports and code here or insert cells below\n",
    "\n"
   ]
  },
  {
   "cell_type": "code",
   "execution_count": 59,
   "metadata": {},
   "outputs": [],
   "source": [
    "from pyspark.sql import functions as F\n",
    "from pyspark.sql.types import *\n",
    "from pyspark.ml.feature import VectorAssembler\n",
    "from pyspark.ml.stat import Correlation\n",
    "import matplotlib.pyplot as plt\n",
    "import numpy as np\n",
    "from pyspark.sql.window import Window\n",
    "from pyspark.sql import Row, DataFrame, Window, functions as F\n",
    "from pyspark.sql.types import *\n",
    "\n",
    "from pyspark.ml.classification import LogisticRegression\n",
    "from pyspark.ml.evaluation import BinaryClassificationEvaluator\n",
    "from pyspark.ml.feature import VectorAssembler\n",
    "from pyspark.ml.stat import Correlation\n",
    "from pyspark.sql.functions import col, desc, count\n",
    "from pyspark.ml.feature import StringIndexer\n",
    "from pyspark.sql.functions import sum, col\n",
    "from pyspark.sql.window import Window\n",
    "from pyspark.sql.functions import row_number"
   ]
  },
  {
   "cell_type": "code",
   "execution_count": 60,
   "metadata": {},
   "outputs": [],
   "source": [
    "#Other imports to be used locally\n",
    "\n",
    "import datetime\n",
    "\n",
    "import numpy as np\n",
    "import scipy as sp\n",
    "import pandas as pd\n",
    "\n",
    "np.set_printoptions(edgeitems=5, threshold=100, precision=4)"
   ]
  },
  {
   "cell_type": "code",
   "execution_count": 61,
   "metadata": {},
   "outputs": [
    {
     "name": "stdout",
     "output_type": "stream",
     "text": [
      "ideal # partitions = 32\n"
     ]
    }
   ],
   "source": [
    "# Determine ideal number of partitions\n",
    "\n",
    "conf = sc.getConf()\n",
    "\n",
    "N = int(conf.get(\"spark.executor.instances\"))\n",
    "M = int(conf.get(\"spark.executor.cores\"))\n",
    "partitions = 4 * N * M\n",
    "\n",
    "print(f'ideal # partitions = {partitions}')"
   ]
  },
  {
   "cell_type": "markdown",
   "metadata": {},
   "source": [
    "### # Song recommendations\n",
    "In this section you will use the Taste Profile dataset to develop a song recommendation service based on collaborative filtering.\n",
    "Collaborative filtering describes algorithms that generate songs recommendations for specific users based on the combined user-song play information from all users. These song recommendations are generated by embedding users and songs as numerical vectors in the same vector space, and selecting songs that are similar to the user based on cosine similarity."
   ]
  },
  {
   "cell_type": "markdown",
   "metadata": {},
   "source": [
    "## Q1"
   ]
  },
  {
   "cell_type": "markdown",
   "metadata": {},
   "source": [
    "First it will be helpful to know more about the properties of the dataset before you being training\n",
    "the collaborative filtering model."
   ]
  },
  {
   "cell_type": "code",
   "execution_count": 62,
   "metadata": {},
   "outputs": [
    {
     "name": "stdout",
     "output_type": "stream",
     "text": [
      "\n",
      "\n",
      "**Conclusion: The raw triplets table has 48373586 rows.\n"
     ]
    },
    {
     "data": {
      "text/html": [
       "<div>\n",
       "<style scoped>\n",
       "    .dataframe tbody tr th:only-of-type {\n",
       "        vertical-align: middle;\n",
       "    }\n",
       "\n",
       "    .dataframe tbody tr th {\n",
       "        vertical-align: top;\n",
       "    }\n",
       "\n",
       "    .dataframe thead th {\n",
       "        text-align: right;\n",
       "    }\n",
       "</style>\n",
       "<table border=\"1\" class=\"dataframe\">\n",
       "  <thead>\n",
       "    <tr style=\"text-align: right;\">\n",
       "      <th></th>\n",
       "      <th>user_id</th>\n",
       "      <th>song_id</th>\n",
       "      <th>play_count</th>\n",
       "    </tr>\n",
       "  </thead>\n",
       "  <tbody>\n",
       "    <tr>\n",
       "      <th>0</th>\n",
       "      <td>ac8864cc4de40a8cf9ee13283356459b0d1a7cf7</td>\n",
       "      <td>SOSYOHI12A8C144584</td>\n",
       "      <td>1</td>\n",
       "    </tr>\n",
       "    <tr>\n",
       "      <th>1</th>\n",
       "      <td>79f66be5c8406927d0f74703073ff8acb772795f</td>\n",
       "      <td>SOHASWV12A58A7DD76</td>\n",
       "      <td>1</td>\n",
       "    </tr>\n",
       "    <tr>\n",
       "      <th>2</th>\n",
       "      <td>f17290eac7e0318306d56ff862d762475c6b604f</td>\n",
       "      <td>SOPOUSZ12AB0182BBC</td>\n",
       "      <td>1</td>\n",
       "    </tr>\n",
       "    <tr>\n",
       "      <th>3</th>\n",
       "      <td>1a0fc011bdb09369afc1a646bc4827408c41566f</td>\n",
       "      <td>SOGTQNI12AB0184A5C</td>\n",
       "      <td>1</td>\n",
       "    </tr>\n",
       "    <tr>\n",
       "      <th>4</th>\n",
       "      <td>9d7e9d405220f6e7978a69ddfd7fc5610a757857</td>\n",
       "      <td>SOUROYR12A8C14311E</td>\n",
       "      <td>1</td>\n",
       "    </tr>\n",
       "  </tbody>\n",
       "</table>\n",
       "</div>"
      ],
      "text/plain": [
       "                                    user_id             song_id  play_count\n",
       "0  ac8864cc4de40a8cf9ee13283356459b0d1a7cf7  SOSYOHI12A8C144584           1\n",
       "1  79f66be5c8406927d0f74703073ff8acb772795f  SOHASWV12A58A7DD76           1\n",
       "2  f17290eac7e0318306d56ff862d762475c6b604f  SOPOUSZ12AB0182BBC           1\n",
       "3  1a0fc011bdb09369afc1a646bc4827408c41566f  SOGTQNI12AB0184A5C           1\n",
       "4  9d7e9d405220f6e7978a69ddfd7fc5610a757857  SOUROYR12A8C14311E           1"
      ]
     },
     "metadata": {},
     "output_type": "display_data"
    }
   ],
   "source": [
    "#firstly, load the taste profile dataset\n",
    "schema_triplets = StructType([\n",
    "    StructField(\"user_id\", StringType(), True),\n",
    "    StructField(\"song_id\",StringType(), True),\n",
    "    StructField(\"play_count\", IntegerType(), True)\n",
    "])\n",
    "\n",
    "# Load triplets data from HDFS\n",
    "triplets = spark.read.csv(\"/data/msd/tasteprofile/triplets.tsv/\", sep = '\\t', schema = schema_triplets).repartition(partitions)\n",
    "triplets.cache()\n",
    "\n",
    "print('\\n')\n",
    "print(f'**Conclusion: The raw triplets table has {triplets.count()} rows.')\n",
    "show_as_html(triplets, 5 )"
   ]
  },
  {
   "cell_type": "code",
   "execution_count": 63,
   "metadata": {},
   "outputs": [
    {
     "data": {
      "text/plain": [
       "[Row(value='ERROR: <SOSHAHT12A8AE498DF TRGHCMN128F42422EB> Gene Kelly  -  Heavenly Music  !=  Summer Stock feat. MGM Studio Orchestra  -  Little Brown Jug [In The Good Old Summertime_ 1949]'),\n",
       " Row(value=\"ERROR: <SOTVIGC12CF5F87EFA TRGLNBL128F9324F09>   -    !=  Lyfe Jennings  -  Let's Stay Together\"),\n",
       " Row(value='ERROR: <SOMIVVH12A58A7A4F3 TRBAYLZ128F933841B>   -    !=  Daryl Hall & John Oates  -  You Make My Dreams'),\n",
       " Row(value='ERROR: <SOLPMEO12A8C136EC2 TRBWLFD128F4261A6A>   -    !=  Girl Talk  -  Friday Night'),\n",
       " Row(value='ERROR: <SOCVMRY12A8AE486A6 TRGEDPP128F428AE71> Eurythmics  -  When Tomorrow Comes  !=  USAF Concert Band and Singing Sergeants  -  Variations on a West Country Carol')]"
      ]
     },
     "execution_count": 63,
     "metadata": {},
     "output_type": "execute_result"
    }
   ],
   "source": [
    "#Secondly, deal with matching related part \n",
    "#load the mismatched information\n",
    "sid_mismatches = spark.read.text(\"hdfs:///data/msd/tasteprofile/mismatches/sid_mismatches.txt\").repartition(partitions)\n",
    "sid_mismatches.head(5)"
   ]
  },
  {
   "cell_type": "code",
   "execution_count": 64,
   "metadata": {},
   "outputs": [
    {
     "name": "stdout",
     "output_type": "stream",
     "text": [
      "root\n",
      " |-- song_id: string (nullable = true)\n",
      " |-- track_id: string (nullable = true)\n",
      "\n"
     ]
    },
    {
     "data": {
      "text/html": [
       "<div>\n",
       "<style scoped>\n",
       "    .dataframe tbody tr th:only-of-type {\n",
       "        vertical-align: middle;\n",
       "    }\n",
       "\n",
       "    .dataframe tbody tr th {\n",
       "        vertical-align: top;\n",
       "    }\n",
       "\n",
       "    .dataframe thead th {\n",
       "        text-align: right;\n",
       "    }\n",
       "</style>\n",
       "<table border=\"1\" class=\"dataframe\">\n",
       "  <thead>\n",
       "    <tr style=\"text-align: right;\">\n",
       "      <th></th>\n",
       "      <th>song_id</th>\n",
       "      <th>track_id</th>\n",
       "    </tr>\n",
       "  </thead>\n",
       "  <tbody>\n",
       "    <tr>\n",
       "      <th>0</th>\n",
       "      <td>SOSHAHT12A8AE498DF</td>\n",
       "      <td>TRGHCMN128F42422EB</td>\n",
       "    </tr>\n",
       "    <tr>\n",
       "      <th>1</th>\n",
       "      <td>SOTVIGC12CF5F87EFA</td>\n",
       "      <td>TRGLNBL128F9324F09</td>\n",
       "    </tr>\n",
       "    <tr>\n",
       "      <th>2</th>\n",
       "      <td>SOMIVVH12A58A7A4F3</td>\n",
       "      <td>TRBAYLZ128F933841B</td>\n",
       "    </tr>\n",
       "    <tr>\n",
       "      <th>3</th>\n",
       "      <td>SOLPMEO12A8C136EC2</td>\n",
       "      <td>TRBWLFD128F4261A6A</td>\n",
       "    </tr>\n",
       "    <tr>\n",
       "      <th>4</th>\n",
       "      <td>SOCVMRY12A8AE486A6</td>\n",
       "      <td>TRGEDPP128F428AE71</td>\n",
       "    </tr>\n",
       "  </tbody>\n",
       "</table>\n",
       "</div>"
      ],
      "text/plain": [
       "              song_id            track_id\n",
       "0  SOSHAHT12A8AE498DF  TRGHCMN128F42422EB\n",
       "1  SOTVIGC12CF5F87EFA  TRGLNBL128F9324F09\n",
       "2  SOMIVVH12A58A7A4F3  TRBAYLZ128F933841B\n",
       "3  SOLPMEO12A8C136EC2  TRBWLFD128F4261A6A\n",
       "4  SOCVMRY12A8AE486A6  TRGEDPP128F428AE71"
      ]
     },
     "metadata": {},
     "output_type": "display_data"
    },
    {
     "name": "stdout",
     "output_type": "stream",
     "text": [
      "\n",
      "\n",
      "**Conclusion: The sid_mismatches table has 19094 rows.\n"
     ]
    }
   ],
   "source": [
    "sid_mismatches_3 = (sid_mismatches\n",
    "                 .select(\n",
    "                     F.substring(F.col('value'), 9,18).alias('song_id'),\n",
    "                     F.substring(F.col('value'), 28,18).alias('track_id') ,\n",
    "                     ))\n",
    "\n",
    "\n",
    "sid_mismatches_3.printSchema()\n",
    "show_as_html(sid_mismatches_3, 5)\n",
    "\n",
    "print('\\n')\n",
    "print(f'**Conclusion: The sid_mismatches table has {sid_mismatches_3.count()} rows.')"
   ]
  },
  {
   "cell_type": "code",
   "execution_count": 65,
   "metadata": {},
   "outputs": [
    {
     "data": {
      "text/plain": [
       "[Row(value='9d8'),\n",
       " Row(value='< ERROR: <SOFQHZM12A8C142342 TRMWMFG128F92FFEF2> Josipa Lisac  -  razloga  !=  Lisac Josipa  -  1000 razloga'),\n",
       " Row(value='19d17'),\n",
       " Row(value='< ERROR: <SODXUTF12AB018A3DA TRMWPCD12903CCE5ED> Lutan Fyah  -  Nuh Matter the Crisis Feat. Midnite  !=  Midnite  -  Nah Matter the Crisis'),\n",
       " Row(value='29d26')]"
      ]
     },
     "execution_count": 65,
     "metadata": {},
     "output_type": "execute_result"
    }
   ],
   "source": [
    "sid_matches_manually_accepted = spark.read.text('/data/msd/tasteprofile/mismatches/sid_matches_manually_accepted.txt')\n",
    "sid_matches_manually_accepted.head(5)"
   ]
  },
  {
   "cell_type": "code",
   "execution_count": 66,
   "metadata": {},
   "outputs": [],
   "source": [
    "sid_matches_manually_accepted.createOrReplaceTempView('sid_matches_manually_accepted_v')\n",
    "\n",
    "sid_matches_manually_accepted_2 = spark.sql(f\"\"\"select substr(value,11,18) as song_id\n",
    ",substr(value,30,18) as track_id\n",
    "from sid_matches_manually_accepted_v  \n",
    "where value like '%ERROR%'          \n",
    "          \"\"\") "
   ]
  },
  {
   "cell_type": "code",
   "execution_count": 67,
   "metadata": {},
   "outputs": [
    {
     "name": "stdout",
     "output_type": "stream",
     "text": [
      "+------------------+------------------+\n",
      "|           song_id|          track_id|\n",
      "+------------------+------------------+\n",
      "|SOFQHZM12A8C142342|TRMWMFG128F92FFEF2|\n",
      "|SODXUTF12AB018A3DA|TRMWPCD12903CCE5ED|\n",
      "|SOASCRF12A8C1372E6|TRMHIPJ128F426A2E2|\n",
      "|SOITDUN12A58A7AACA|TRMHXGK128F42446AB|\n",
      "|SOLZXUM12AB018BE39|TRMRSOF12903CCF516|\n",
      "+------------------+------------------+\n",
      "only showing top 5 rows\n",
      "\n"
     ]
    }
   ],
   "source": [
    "sid_matches_manually_accepted_2.show(5)"
   ]
  },
  {
   "cell_type": "code",
   "execution_count": 68,
   "metadata": {},
   "outputs": [
    {
     "name": "stdout",
     "output_type": "stream",
     "text": [
      "The raw count of mismatched song items: 19093\n",
      "The new count of mismatched song items: 19094\n",
      "There are 1 song items deleted.\n"
     ]
    }
   ],
   "source": [
    "#deal with one situation: some matches are mistaken but manually accepted\n",
    "sid_mismatches_outlier = sid_mismatches_3.join(\n",
    "  sid_matches_manually_accepted_2,\n",
    "  on = 'song_id',\n",
    "  how=\"leftanti\"\n",
    ")\n",
    "\n",
    "print(f'The raw count of mismatched song items: {sid_mismatches_outlier.count()}')\n",
    "print(f'The new count of mismatched song items: {sid_mismatches_3.count()}')\n",
    "print(f'There are {sid_mismatches_3.count() -sid_mismatches_outlier.count()} song items deleted.')"
   ]
  },
  {
   "cell_type": "code",
   "execution_count": 69,
   "metadata": {},
   "outputs": [
    {
     "name": "stdout",
     "output_type": "stream",
     "text": [
      "***Conclusion: The new count of triplets: 45795111.\n",
      "After 2578475 rows are deleted from Taste Profile Dataset.\n"
     ]
    },
    {
     "data": {
      "text/html": [
       "<div>\n",
       "<style scoped>\n",
       "    .dataframe tbody tr th:only-of-type {\n",
       "        vertical-align: middle;\n",
       "    }\n",
       "\n",
       "    .dataframe tbody tr th {\n",
       "        vertical-align: top;\n",
       "    }\n",
       "\n",
       "    .dataframe thead th {\n",
       "        text-align: right;\n",
       "    }\n",
       "</style>\n",
       "<table border=\"1\" class=\"dataframe\">\n",
       "  <thead>\n",
       "    <tr style=\"text-align: right;\">\n",
       "      <th></th>\n",
       "      <th>song_id</th>\n",
       "      <th>user_id</th>\n",
       "      <th>play_count</th>\n",
       "    </tr>\n",
       "  </thead>\n",
       "  <tbody>\n",
       "    <tr>\n",
       "      <th>0</th>\n",
       "      <td>SOSYOHI12A8C144584</td>\n",
       "      <td>ac8864cc4de40a8cf9ee13283356459b0d1a7cf7</td>\n",
       "      <td>1</td>\n",
       "    </tr>\n",
       "    <tr>\n",
       "      <th>1</th>\n",
       "      <td>SOHASWV12A58A7DD76</td>\n",
       "      <td>79f66be5c8406927d0f74703073ff8acb772795f</td>\n",
       "      <td>1</td>\n",
       "    </tr>\n",
       "    <tr>\n",
       "      <th>2</th>\n",
       "      <td>SOPOUSZ12AB0182BBC</td>\n",
       "      <td>f17290eac7e0318306d56ff862d762475c6b604f</td>\n",
       "      <td>1</td>\n",
       "    </tr>\n",
       "    <tr>\n",
       "      <th>3</th>\n",
       "      <td>SOGTQNI12AB0184A5C</td>\n",
       "      <td>1a0fc011bdb09369afc1a646bc4827408c41566f</td>\n",
       "      <td>1</td>\n",
       "    </tr>\n",
       "    <tr>\n",
       "      <th>4</th>\n",
       "      <td>SOUROYR12A8C14311E</td>\n",
       "      <td>9d7e9d405220f6e7978a69ddfd7fc5610a757857</td>\n",
       "      <td>1</td>\n",
       "    </tr>\n",
       "  </tbody>\n",
       "</table>\n",
       "</div>"
      ],
      "text/plain": [
       "              song_id                                   user_id  play_count\n",
       "0  SOSYOHI12A8C144584  ac8864cc4de40a8cf9ee13283356459b0d1a7cf7           1\n",
       "1  SOHASWV12A58A7DD76  79f66be5c8406927d0f74703073ff8acb772795f           1\n",
       "2  SOPOUSZ12AB0182BBC  f17290eac7e0318306d56ff862d762475c6b604f           1\n",
       "3  SOGTQNI12AB0184A5C  1a0fc011bdb09369afc1a646bc4827408c41566f           1\n",
       "4  SOUROYR12A8C14311E  9d7e9d405220f6e7978a69ddfd7fc5610a757857           1"
      ]
     },
     "metadata": {},
     "output_type": "display_data"
    }
   ],
   "source": [
    "triplets_new = triplets.join(\n",
    "  sid_mismatches_outlier,\n",
    "  on = 'song_id',\n",
    "  how=\"leftanti\"\n",
    ")\n",
    "print(f'***Conclusion: The new count of triplets: {triplets_new.count()}.')\n",
    "print(f'After {triplets.count() -triplets_new.count()} rows are deleted from Taste Profile Dataset.')\n",
    "show_as_html(triplets_new, 5)"
   ]
  },
  {
   "cell_type": "code",
   "execution_count": 70,
   "metadata": {},
   "outputs": [
    {
     "name": "stdout",
     "output_type": "stream",
     "text": [
      "There are 378310 unique songs.\n",
      "There are 1019318 unique users.\n"
     ]
    }
   ],
   "source": [
    "num_song_unique = triplets_new.select(F.col('song_id')).distinct().count()\n",
    "num_user_unique = triplets_new.select(F.col('user_id')).distinct().count()\n",
    "\n",
    "print(f'There are {num_song_unique} unique songs.')\n",
    "print(f'There are {num_user_unique} unique users.')"
   ]
  },
  {
   "cell_type": "markdown",
   "metadata": {},
   "source": [
    "(c)\n",
    "How many different songs has the most active user played?\n",
    "What is this as a percentage of the total number of unique songs in the dataset?"
   ]
  },
  {
   "cell_type": "code",
   "execution_count": 71,
   "metadata": {},
   "outputs": [
    {
     "name": "stdout",
     "output_type": "stream",
     "text": [
      "+--------------------+----------------+\n",
      "|             user_id|total_play_count|\n",
      "+--------------------+----------------+\n",
      "|093cb74eb3c517c51...|           13074|\n",
      "|119b7c88d58d0c6eb...|            9104|\n",
      "|3fa44653315697f42...|            8025|\n",
      "|a2679496cd0af9779...|            6506|\n",
      "|d7d2d888ae04d16e9...|            6190|\n",
      "|4ae01afa8f2430ea0...|            6153|\n",
      "|b7c24f770be6b8028...|            5827|\n",
      "|113255a012b2affea...|            5471|\n",
      "|99ac3d883681e21ea...|            5385|\n",
      "|6d625c6557df84b60...|            5362|\n",
      "|6b36f65d2eb5579a8...|            5318|\n",
      "|ec6dfcf19485cb011...|            5146|\n",
      "|3325fe1d8da7b13dd...|            5100|\n",
      "|281deab3afccc9062...|            5057|\n",
      "|c1255748c06ee3f64...|            4977|\n",
      "|18c1dd917693fd929...|            4883|\n",
      "|6a58f480d522814c0...|            4764|\n",
      "|3b93435988354b188...|            4625|\n",
      "|c11dea7d1f4d227b9...|            4356|\n",
      "|31cbbdbd5a1a6ef64...|            4320|\n",
      "+--------------------+----------------+\n",
      "only showing top 20 rows\n",
      "\n"
     ]
    }
   ],
   "source": [
    "# most active user\n",
    "most_active_users = triplets_new.groupBy(\"user_id\").sum(\"play_count\").withColumnRenamed(\"sum(play_count)\", \"total_play_count\").orderBy(desc(\"total_play_count\"))\n",
    "most_active_users.show()"
   ]
  },
  {
   "cell_type": "code",
   "execution_count": 72,
   "metadata": {},
   "outputs": [
    {
     "name": "stdout",
     "output_type": "stream",
     "text": [
      "The most active user is 093cb74eb3c517c5179ae24caf0ebec51b24d2a2 with a play count of 13074.\n"
     ]
    }
   ],
   "source": [
    "most_active_user = most_active_users.first()\n",
    "print(f\"The most active user is {most_active_user['user_id']} with a play count of {most_active_user['total_play_count']}.\")"
   ]
  },
  {
   "cell_type": "code",
   "execution_count": 73,
   "metadata": {},
   "outputs": [
    {
     "name": "stdout",
     "output_type": "stream",
     "text": [
      "+------------------+--------------------+----------+\n",
      "|           song_id|             user_id|play_count|\n",
      "+------------------+--------------------+----------+\n",
      "|SOZKNSB12A8C140F11|093cb74eb3c517c51...|         3|\n",
      "|SOOHCUB12A58A7AD2C|093cb74eb3c517c51...|         3|\n",
      "|SOBNVXI12A81C238A8|093cb74eb3c517c51...|         8|\n",
      "|SOMMMFT12A67ADC119|093cb74eb3c517c51...|         1|\n",
      "|SOAMEVJ12A6701E393|093cb74eb3c517c51...|         2|\n",
      "+------------------+--------------------+----------+\n",
      "only showing top 5 rows\n",
      "\n"
     ]
    }
   ],
   "source": [
    "most_active_user_id = \"093cb74eb3c517c5179ae24caf0ebec51b24d2a2\"\n",
    "most_active_user_df = triplets_new.filter(col(\"user_id\") == most_active_user_id)\n",
    "\n",
    "# Show the filtered DataFrame\n",
    "most_active_user_df.show(5)"
   ]
  },
  {
   "cell_type": "code",
   "execution_count": 74,
   "metadata": {},
   "outputs": [
    {
     "name": "stdout",
     "output_type": "stream",
     "text": [
      "The number of unique songs for user ID 093cb74eb3c517c5179ae24caf0ebec51b24d2a2 is 195.\n"
     ]
    }
   ],
   "source": [
    "most_active_user_unique_songs_count = most_active_user_df.select(\"song_id\").distinct().count()\n",
    "\n",
    "# Show the result\n",
    "print(f\"The number of unique songs for user ID {most_active_user_id} is {most_active_user_unique_songs_count}.\")"
   ]
  },
  {
   "cell_type": "code",
   "execution_count": 75,
   "metadata": {},
   "outputs": [
    {
     "name": "stdout",
     "output_type": "stream",
     "text": [
      "This is as a 0.052% percent of the total number of unique songs.\n"
     ]
    }
   ],
   "source": [
    "percentage = (most_active_user_unique_songs_count/num_song_unique) * 100\n",
    "print(f'This is as a {percentage:.3f}% percent of the total number of unique songs.')"
   ]
  },
  {
   "cell_type": "markdown",
   "metadata": {},
   "source": [
    "(d) Visualize the distribution of song popularity and the distribution of user activity by collecting\n",
    "the counts of user plays per song and the counts of song plays per user respectively, and\n",
    "describe the shape of the distributions."
   ]
  },
  {
   "cell_type": "code",
   "execution_count": 76,
   "metadata": {},
   "outputs": [
    {
     "name": "stdout",
     "output_type": "stream",
     "text": [
      "+------------------+-------------------+\n",
      "|           song_id|user_plays_per_song|\n",
      "+------------------+-------------------+\n",
      "|SOAXGDH12A8C13F8A1|              90444|\n",
      "|SOBONKR12A58A7A7E0|              84000|\n",
      "|SOSXLTC12AF72A7F54|              80656|\n",
      "|SONYKOW12AB01849C9|              78353|\n",
      "|SOEGIYH12A6D4FC0E3|              69487|\n",
      "|SOLFXKT12AB017E3E0|              64229|\n",
      "|SOFLJQZ12A6D4FADA6|              58610|\n",
      "|SOUSMXX12AB0185C24|              53260|\n",
      "|SOWCKVR12A8C142411|              52080|\n",
      "|SOUVTSM12AC468F6A7|              51022|\n",
      "|SOTWNDJ12A8C143984|              47011|\n",
      "|SOPUCYA12A8C13A694|              46078|\n",
      "|SOHTKMO12AB01843B0|              46077|\n",
      "|SOKLRPJ12A8C13C3FE|              45495|\n",
      "|SOCVTLJ12A6310F0FD|              42535|\n",
      "|SOPPROJ12AB0184E18|              41811|\n",
      "|SOBOUPA12A6D4F81F1|              41093|\n",
      "|SOPTLQL12AB018D56F|              40497|\n",
      "|SOOFYTN12A6D4F9B35|              40403|\n",
      "|SOBOAFP12A8C131F36|              39851|\n",
      "+------------------+-------------------+\n",
      "only showing top 20 rows\n",
      "\n"
     ]
    }
   ],
   "source": [
    "# Compute song popularity distribution (counts of user plays per song)\n",
    "song_popularity_df = triplets_new.groupBy(\"song_id\").agg(count(\"user_id\").alias(\"user_plays_per_song\")).orderBy(desc(\"user_plays_per_song\"))\n",
    "song_popularity_df.show()"
   ]
  },
  {
   "cell_type": "code",
   "execution_count": 77,
   "metadata": {},
   "outputs": [],
   "source": [
    "song_popularity_pd = song_popularity_df.toPandas()"
   ]
  },
  {
   "cell_type": "code",
   "execution_count": 78,
   "metadata": {},
   "outputs": [
    {
     "data": {
      "text/html": [
       "<div>\n",
       "<style scoped>\n",
       "    .dataframe tbody tr th:only-of-type {\n",
       "        vertical-align: middle;\n",
       "    }\n",
       "\n",
       "    .dataframe tbody tr th {\n",
       "        vertical-align: top;\n",
       "    }\n",
       "\n",
       "    .dataframe thead th {\n",
       "        text-align: right;\n",
       "    }\n",
       "</style>\n",
       "<table border=\"1\" class=\"dataframe\">\n",
       "  <thead>\n",
       "    <tr style=\"text-align: right;\">\n",
       "      <th></th>\n",
       "      <th>song_id</th>\n",
       "      <th>user_plays_per_song</th>\n",
       "    </tr>\n",
       "  </thead>\n",
       "  <tbody>\n",
       "    <tr>\n",
       "      <th>0</th>\n",
       "      <td>SOAXGDH12A8C13F8A1</td>\n",
       "      <td>90444</td>\n",
       "    </tr>\n",
       "    <tr>\n",
       "      <th>1</th>\n",
       "      <td>SOBONKR12A58A7A7E0</td>\n",
       "      <td>84000</td>\n",
       "    </tr>\n",
       "    <tr>\n",
       "      <th>2</th>\n",
       "      <td>SOSXLTC12AF72A7F54</td>\n",
       "      <td>80656</td>\n",
       "    </tr>\n",
       "    <tr>\n",
       "      <th>3</th>\n",
       "      <td>SONYKOW12AB01849C9</td>\n",
       "      <td>78353</td>\n",
       "    </tr>\n",
       "    <tr>\n",
       "      <th>4</th>\n",
       "      <td>SOEGIYH12A6D4FC0E3</td>\n",
       "      <td>69487</td>\n",
       "    </tr>\n",
       "  </tbody>\n",
       "</table>\n",
       "</div>"
      ],
      "text/plain": [
       "              song_id  user_plays_per_song\n",
       "0  SOAXGDH12A8C13F8A1                90444\n",
       "1  SOBONKR12A58A7A7E0                84000\n",
       "2  SOSXLTC12AF72A7F54                80656\n",
       "3  SONYKOW12AB01849C9                78353\n",
       "4  SOEGIYH12A6D4FC0E3                69487"
      ]
     },
     "execution_count": 78,
     "metadata": {},
     "output_type": "execute_result"
    }
   ],
   "source": [
    "song_popularity_pd.head(5)"
   ]
  },
  {
   "cell_type": "code",
   "execution_count": 79,
   "metadata": {},
   "outputs": [
    {
     "data": {
      "image/png": "[encoded data removed]",
      "text/plain": [
       "<Figure size 576x360 with 1 Axes>"
      ]
     },
     "metadata": {
      "needs_background": "light"
     },
     "output_type": "display_data"
    }
   ],
   "source": [
    "plt.figure(figsize=(8,5))\n",
    "plt.plot(song_popularity_pd['user_plays_per_song'])\n",
    "plt.title('Distribution of Song Popularity')\n",
    "plt.xlabel('Song(Odered)')\n",
    "plt.ylabel('Number of User Plays per Song')\n",
    "plt.show()"
   ]
  },
  {
   "cell_type": "code",
   "execution_count": 80,
   "metadata": {},
   "outputs": [
    {
     "name": "stdout",
     "output_type": "stream",
     "text": [
      "+--------------------+-------------------+\n",
      "|             user_id|song_plays_per_user|\n",
      "+--------------------+-------------------+\n",
      "|ec6dfcf19485cb011...|               4316|\n",
      "|8cb51abc6bf8ea293...|               1562|\n",
      "|5a3417a1955d91364...|               1557|\n",
      "|fef771ab021c20018...|               1545|\n",
      "|c1255748c06ee3f64...|               1498|\n",
      "|4e73d9e058d2b1f2d...|               1470|\n",
      "|cbc7bddbe3b2f59fd...|               1457|\n",
      "|96f7b4f800cafef33...|               1407|\n",
      "|b7c24f770be6b8028...|               1364|\n",
      "|119b7c88d58d0c6eb...|               1362|\n",
      "|a05e548059abb1f77...|               1324|\n",
      "|6d625c6557df84b60...|               1307|\n",
      "|33a1286454a3cff06...|               1304|\n",
      "|d7d2d888ae04d16e9...|               1257|\n",
      "|7e543508a213f4f22...|               1196|\n",
      "|1aa4fd215aadb1609...|               1192|\n",
      "|4e11f45d732f48617...|               1184|\n",
      "|0c2932cb475b83b61...|               1182|\n",
      "|db6a78c78c9239aba...|               1177|\n",
      "|18765abd13462c176...|               1173|\n",
      "+--------------------+-------------------+\n",
      "only showing top 20 rows\n",
      "\n"
     ]
    }
   ],
   "source": [
    "# Compute user activity distribution (counts of song plays per user)\n",
    "user_activity_df = triplets_new.groupBy(\"user_id\").agg(count(\"song_id\").alias(\"song_plays_per_user\")).orderBy(desc(\"song_plays_per_user\"))\n",
    "user_activity_df.show()"
   ]
  },
  {
   "cell_type": "code",
   "execution_count": 81,
   "metadata": {},
   "outputs": [],
   "source": [
    "user_activity_pd = user_activity_df.toPandas()"
   ]
  },
  {
   "cell_type": "code",
   "execution_count": 82,
   "metadata": {},
   "outputs": [
    {
     "data": {
      "text/html": [
       "<div>\n",
       "<style scoped>\n",
       "    .dataframe tbody tr th:only-of-type {\n",
       "        vertical-align: middle;\n",
       "    }\n",
       "\n",
       "    .dataframe tbody tr th {\n",
       "        vertical-align: top;\n",
       "    }\n",
       "\n",
       "    .dataframe thead th {\n",
       "        text-align: right;\n",
       "    }\n",
       "</style>\n",
       "<table border=\"1\" class=\"dataframe\">\n",
       "  <thead>\n",
       "    <tr style=\"text-align: right;\">\n",
       "      <th></th>\n",
       "      <th>user_id</th>\n",
       "      <th>song_plays_per_user</th>\n",
       "    </tr>\n",
       "  </thead>\n",
       "  <tbody>\n",
       "    <tr>\n",
       "      <th>0</th>\n",
       "      <td>ec6dfcf19485cb011e0b22637075037aae34cf26</td>\n",
       "      <td>4316</td>\n",
       "    </tr>\n",
       "    <tr>\n",
       "      <th>1</th>\n",
       "      <td>8cb51abc6bf8ea29341cb070fe1e1af5e4c3ffcc</td>\n",
       "      <td>1562</td>\n",
       "    </tr>\n",
       "    <tr>\n",
       "      <th>2</th>\n",
       "      <td>5a3417a1955d9136413e0d293cd36497f5e00238</td>\n",
       "      <td>1557</td>\n",
       "    </tr>\n",
       "    <tr>\n",
       "      <th>3</th>\n",
       "      <td>fef771ab021c200187a419f5e55311390f850a50</td>\n",
       "      <td>1545</td>\n",
       "    </tr>\n",
       "    <tr>\n",
       "      <th>4</th>\n",
       "      <td>c1255748c06ee3f6440c51c439446886c7807095</td>\n",
       "      <td>1498</td>\n",
       "    </tr>\n",
       "  </tbody>\n",
       "</table>\n",
       "</div>"
      ],
      "text/plain": [
       "                                    user_id  song_plays_per_user\n",
       "0  ec6dfcf19485cb011e0b22637075037aae34cf26                 4316\n",
       "1  8cb51abc6bf8ea29341cb070fe1e1af5e4c3ffcc                 1562\n",
       "2  5a3417a1955d9136413e0d293cd36497f5e00238                 1557\n",
       "3  fef771ab021c200187a419f5e55311390f850a50                 1545\n",
       "4  c1255748c06ee3f6440c51c439446886c7807095                 1498"
      ]
     },
     "execution_count": 82,
     "metadata": {},
     "output_type": "execute_result"
    }
   ],
   "source": [
    "user_activity_pd.head(5)"
   ]
  },
  {
   "cell_type": "code",
   "execution_count": 83,
   "metadata": {},
   "outputs": [
    {
     "data": {
      "image/png": "[encoded data removed]",
      "text/plain": [
       "<Figure size 576x360 with 1 Axes>"
      ]
     },
     "metadata": {
      "needs_background": "light"
     },
     "output_type": "display_data"
    }
   ],
   "source": [
    "plt.figure(figsize=(8,5))\n",
    "plt.plot(user_activity_pd['song_plays_per_user'])\n",
    "plt.title( \"user activity\")\n",
    "plt.xlabel('users(Ordered)')\n",
    "plt.ylabel('the sum of different songs')\n",
    "plt.show()"
   ]
  },
  {
   "cell_type": "markdown",
   "metadata": {},
   "source": [
    "# Q2\n",
    "Next you will train the collaborative filtering model.\n"
   ]
  },
  {
   "cell_type": "markdown",
   "metadata": {},
   "source": [
    "(a)\n",
    "Collaborative filtering determines similar users and songs based on their combined play history. Songs which have been played only a few times and users who have only listened to a few songs will not contribute much information and are unlikely to improve the model. Create a clean dataset of user-song plays by removing songs which have been played less than N times and users who have listened to fewer than M songs in total. Choose sensible values for N and M, taking into account the total number of users and songs."
   ]
  },
  {
   "cell_type": "code",
   "execution_count": 84,
   "metadata": {},
   "outputs": [
    {
     "name": "stdout",
     "output_type": "stream",
     "text": [
      "distribution of song popularity\n",
      "       user_plays_per_song\n",
      "count            378310.00\n",
      "mean                121.05\n",
      "std                 748.65\n",
      "min                   1.00\n",
      "25%                   4.00\n",
      "50%                  13.00\n",
      "75%                  50.00\n",
      "max               90444.00\n",
      "distribution of user activity\n",
      "       song_plays_per_user\n",
      "count           1019318.00\n",
      "mean                 44.93\n",
      "std                  54.91\n",
      "min                   3.00\n",
      "25%                  15.00\n",
      "50%                  26.00\n",
      "75%                  53.00\n",
      "max                4316.00\n"
     ]
    }
   ],
   "source": [
    "#Firstly, analysis these two distributions\n",
    "print('distribution of song popularity')\n",
    "with pd.option_context('display.float_format', '{:0.2f}'.format):\n",
    "   print(song_popularity_pd.describe())\n",
    "\n",
    "print('distribution of user activity')\n",
    "with pd.option_context('display.float_format', '{:0.2f}'.format):\n",
    "   print(user_activity_pd.describe())"
   ]
  },
  {
   "cell_type": "code",
   "execution_count": 85,
   "metadata": {},
   "outputs": [
    {
     "name": "stdout",
     "output_type": "stream",
     "text": [
      "       user_plays_per_song\n",
      "count             55648.00\n",
      "mean                706.16\n",
      "std                1845.32\n",
      "min                 122.00\n",
      "25%                 184.00\n",
      "50%                 307.00\n",
      "75%                 632.25\n",
      "max               90444.00\n",
      "       song_plays_per_user\n",
      "count            298388.00\n",
      "mean                102.47\n",
      "std                  73.38\n",
      "min                  46.00\n",
      "25%                  59.00\n",
      "50%                  79.00\n",
      "75%                 118.00\n",
      "max                4316.00\n"
     ]
    }
   ],
   "source": [
    "song_popularity_pd_filtered = song_popularity_pd[song_popularity_pd['user_plays_per_song']>121]\n",
    "with pd.option_context('display.float_format', '{:0.2f}'.format):\n",
    "   print(song_popularity_pd_filtered.describe())\n",
    "\n",
    "user_activity_pd_filtered = user_activity_pd[user_activity_pd['song_plays_per_user']>45]\n",
    "with pd.option_context('display.float_format', '{:0.2f}'.format):\n",
    "   print(user_activity_pd_filtered.describe())"
   ]
  },
  {
   "cell_type": "code",
   "execution_count": 86,
   "metadata": {},
   "outputs": [
    {
     "name": "stdout",
     "output_type": "stream",
     "text": [
      "+------------------+-------------------+---------+\n",
      "|           song_id|user_plays_per_song|song_code|\n",
      "+------------------+-------------------+---------+\n",
      "|SOAXGDH12A8C13F8A1|              90444|   2034.0|\n",
      "|SOBONKR12A58A7A7E0|              84000|   3531.0|\n",
      "|SOSXLTC12AF72A7F54|              80656|  41344.0|\n",
      "|SONYKOW12AB01849C9|              78353|  31002.0|\n",
      "|SOEGIYH12A6D4FC0E3|              69487|   9676.0|\n",
      "+------------------+-------------------+---------+\n",
      "only showing top 5 rows\n",
      "\n"
     ]
    }
   ],
   "source": [
    "song_popularity_filtered = spark.createDataFrame(song_popularity_pd_filtered)\n",
    "stringIndexer_songs = StringIndexer(inputCol=\"song_id\", outputCol=\"song_code\", stringOrderType=\"frequencyDesc\")\n",
    "song_fit = stringIndexer_songs.fit(song_popularity_filtered)\n",
    "song_popularity_filtered = song_fit.transform(song_popularity_filtered)\n",
    "\n",
    "song_popularity_filtered.show(5)"
   ]
  },
  {
   "cell_type": "code",
   "execution_count": 87,
   "metadata": {},
   "outputs": [
    {
     "name": "stdout",
     "output_type": "stream",
     "text": [
      "+--------------------+-------------------+---------+\n",
      "|             user_id|song_plays_per_user|user_code|\n",
      "+--------------------+-------------------+---------+\n",
      "|ec6dfcf19485cb011...|               4316| 275381.0|\n",
      "|8cb51abc6bf8ea293...|               1562| 163220.0|\n",
      "|5a3417a1955d91364...|               1557| 104706.0|\n",
      "|fef771ab021c20018...|               1545| 297151.0|\n",
      "|c1255748c06ee3f64...|               1498| 224743.0|\n",
      "+--------------------+-------------------+---------+\n",
      "only showing top 5 rows\n",
      "\n"
     ]
    }
   ],
   "source": [
    "user_activity_filtered = spark.createDataFrame(user_activity_pd_filtered)\n",
    "stringIndexer_songs = StringIndexer(inputCol=\"user_id\", outputCol=\"user_code\", stringOrderType=\"frequencyDesc\")\n",
    "user_fit = stringIndexer_songs.fit(user_activity_filtered)\n",
    "user_activity_filtered = user_fit.transform(user_activity_filtered)\n",
    "user_activity_filtered.show(5)"
   ]
  },
  {
   "cell_type": "code",
   "execution_count": 88,
   "metadata": {},
   "outputs": [
    {
     "name": "stdout",
     "output_type": "stream",
     "text": [
      "+--------------------+------------------+----------+---------+---------+\n",
      "|             user_id|           song_id|play_count|song_code|user_code|\n",
      "+--------------------+------------------+----------+---------+---------+\n",
      "|0030bfca05740e85c...|SOBXHDL12A81C204C0|         5|   4331.0|    207.0|\n",
      "|0030bfca05740e85c...|SOIZFTE12AB0186842|         3|  20202.0|    207.0|\n",
      "|0030bfca05740e85c...|SOPJHQC12A6701F6CB|         5|  33995.0|    207.0|\n",
      "|0030bfca05740e85c...|SOKQOJY12AAF3B531C|         2|  23894.0|    207.0|\n",
      "|0030bfca05740e85c...|SOMNGMO12A6702187E|         1|  27918.0|    207.0|\n",
      "|0030bfca05740e85c...|SORJICW12A8C13640D|         1|  38133.0|    207.0|\n",
      "|0030bfca05740e85c...|SOBFRNE12A6D4F7995|         1|   2748.0|    207.0|\n",
      "|0030bfca05740e85c...|SOEYVHS12AB0181D31|         1|  11304.0|    207.0|\n",
      "|0030bfca05740e85c...|SOKBJJO12A8C140826|         1|  22611.0|    207.0|\n",
      "|0030bfca05740e85c...|SOBLSTM12A8C140FC9|         1|   3280.0|    207.0|\n",
      "+--------------------+------------------+----------+---------+---------+\n",
      "only showing top 10 rows\n",
      "\n"
     ]
    }
   ],
   "source": [
    "# merge\n",
    "triplets_merge = triplets_new.join(song_popularity_filtered, on='song_id',how='left')\\\n",
    ".filter(F.col('song_code').isNotNull())\\\n",
    ".join(user_activity_filtered, on='user_id',how='left')\\\n",
    ".filter(F.col('user_code').isNotNull())\\\n",
    ".drop( 'user_plays_per_song', 'song_plays_per_user' )\n",
    "triplets_merge.show(10)"
   ]
  },
  {
   "cell_type": "markdown",
   "metadata": {},
   "source": [
    "(b)\n",
    "Split the dataset into training and test sets. The test set should contain at least 25% of the plays in total. Note that due to the nature of the collaborative filtering model, you must ensure that every user in the test set has some user-song plays in the training set as well. Explain why this is required and how you have done this while keeping the selection as random as possible."
   ]
  },
  {
   "cell_type": "code",
   "execution_count": 89,
   "metadata": {},
   "outputs": [
    {
     "name": "stdout",
     "output_type": "stream",
     "text": [
      "25% of total plays of the full dataset is 17658957.5\n"
     ]
    }
   ],
   "source": [
    "criteria = triplets_merge.agg(F.sum(\"play_count\")).collect()[0][0] * 0.25\n",
    "print(\"25% of total plays of the full dataset is {}\".format(criteria))"
   ]
  },
  {
   "cell_type": "code",
   "execution_count": 90,
   "metadata": {},
   "outputs": [],
   "source": [
    "# Calculate the total play count\n",
    "total_play_count = triplets_merge.agg(F.sum(\"play_count\")).collect()[0][0]"
   ]
  },
  {
   "cell_type": "code",
   "execution_count": 91,
   "metadata": {},
   "outputs": [
    {
     "data": {
      "text/plain": [
       "17658957.5"
      ]
     },
     "execution_count": 91,
     "metadata": {},
     "output_type": "execute_result"
    }
   ],
   "source": [
    "# Determine the threshold for the test set (25% of total play count)\n",
    "test_play_count_threshold = total_play_count * 0.25\n",
    "test_play_count_threshold"
   ]
  },
  {
   "cell_type": "code",
   "execution_count": 92,
   "metadata": {},
   "outputs": [],
   "source": [
    "# Randomly split the dataset into initial training and test sets (75% train, 25% test)\n",
    "train_df, test_df = triplets_merge.randomSplit([0.75, 0.25], seed=42)"
   ]
  },
  {
   "cell_type": "code",
   "execution_count": 93,
   "metadata": {},
   "outputs": [],
   "source": [
    "# Calculate the play count in the test set\n",
    "test_play_count = test_df.agg(sum(\"play_count\")).collect()[0][0]"
   ]
  },
  {
   "cell_type": "code",
   "execution_count": 94,
   "metadata": {},
   "outputs": [
    {
     "data": {
      "text/plain": [
       "17685403"
      ]
     },
     "execution_count": 94,
     "metadata": {},
     "output_type": "execute_result"
    }
   ],
   "source": [
    "test_play_count"
   ]
  },
  {
   "cell_type": "code",
   "execution_count": 95,
   "metadata": {},
   "outputs": [],
   "source": [
    "import random\n",
    "from pyspark.sql.functions import sum, col, rand"
   ]
  },
  {
   "cell_type": "code",
   "execution_count": 96,
   "metadata": {},
   "outputs": [],
   "source": [
    "columns = [\"user_id\", \"song_id\", \"play_count\", \"song_code\", \"user_code\"]"
   ]
  },
  {
   "cell_type": "code",
   "execution_count": 97,
   "metadata": {},
   "outputs": [],
   "source": [
    "# Adjust the test set if it doesn't meet the play count threshold\n",
    "while test_play_count < test_play_count_threshold:\n",
    "    # Calculate remaining play count needed\n",
    "    remaining_play_count_needed = test_play_count_threshold - test_play_count\n",
    "    \n",
    "    # Take random rows from the training set until the threshold is met\n",
    "    additional_rows = train_df.orderBy(rand()).limit(10000).collect()  # Use a smaller batch size\n",
    "    \n",
    "    # Convert additional rows to DataFrame\n",
    "    additional_rows_df = spark.createDataFrame(additional_rows, columns)\n",
    "    \n",
    "    # Add these rows to the test set\n",
    "    test_df = test_df.union(additional_rows_df)\n",
    "    \n",
    "    # Remove these rows from the training set\n",
    "    train_df = train_df.subtract(additional_rows_df)"
   ]
  },
  {
   "cell_type": "code",
   "execution_count": 98,
   "metadata": {},
   "outputs": [
    {
     "name": "stdout",
     "output_type": "stream",
     "text": [
      "Test set actual play count: 17685403\n"
     ]
    }
   ],
   "source": [
    "test_play_count = test_df.agg(sum(\"play_count\")).collect()[0][0]\n",
    "\n",
    "print(f\"Test set actual play count: {test_play_count}\")"
   ]
  },
  {
   "cell_type": "code",
   "execution_count": 99,
   "metadata": {},
   "outputs": [
    {
     "name": "stdout",
     "output_type": "stream",
     "text": [
      "The test set contains 25.037439214630876% of the plays in total.\n"
     ]
    }
   ],
   "source": [
    "test_percentage = (test_play_count /total_play_count) * 100\n",
    "print(f'The test set contains {test_percentage}% of the plays in total.')"
   ]
  },
  {
   "cell_type": "code",
   "execution_count": 100,
   "metadata": {},
   "outputs": [
    {
     "name": "stdout",
     "output_type": "stream",
     "text": [
      "+--------------------+------------------+----------+---------+---------+\n",
      "|             user_id|           song_id|play_count|song_code|user_code|\n",
      "+--------------------+------------------+----------+---------+---------+\n",
      "|0030bfca05740e85c...|SOAZPPR12A6D4F89C6|         4|   2228.0|    207.0|\n",
      "|0030bfca05740e85c...|SOBCMUG12AB017D50A|         1|   2483.0|    207.0|\n",
      "|0030bfca05740e85c...|SOBLSTM12A8C140FC9|         1|   3280.0|    207.0|\n",
      "|0030bfca05740e85c...|SOBONKR12A58A7A7E0|         1|   3531.0|    207.0|\n",
      "|0030bfca05740e85c...|SOBOUPA12A6D4F81F1|        12|   3552.0|    207.0|\n",
      "+--------------------+------------------+----------+---------+---------+\n",
      "only showing top 5 rows\n",
      "\n",
      "+--------------------+------------------+----------+---------+---------+\n",
      "|             user_id|           song_id|play_count|song_code|user_code|\n",
      "+--------------------+------------------+----------+---------+---------+\n",
      "|0030bfca05740e85c...|SOBFRNE12A6D4F7995|         1|   2748.0|    207.0|\n",
      "|0030bfca05740e85c...|SOBXHDL12A81C204C0|         5|   4331.0|    207.0|\n",
      "|0030bfca05740e85c...|SOCMHES12AB0186FCF|         1|   5619.0|    207.0|\n",
      "|0030bfca05740e85c...|SOEHFSK12A67FFB329|         6|   9743.0|    207.0|\n",
      "|0030bfca05740e85c...|SOHYSXA12AB0186704|         1|  17997.0|    207.0|\n",
      "+--------------------+------------------+----------+---------+---------+\n",
      "only showing top 5 rows\n",
      "\n"
     ]
    }
   ],
   "source": [
    "# Show the first few rows of each set\n",
    "train_df.show(5)\n",
    "test_df.show(5)"
   ]
  },
  {
   "cell_type": "code",
   "execution_count": 101,
   "metadata": {},
   "outputs": [
    {
     "data": {
      "text/plain": [
       "DataFrame[user_id: string, song_id: string, play_count: int, song_code: double, user_code: double]"
      ]
     },
     "execution_count": 101,
     "metadata": {},
     "output_type": "execute_result"
    }
   ],
   "source": [
    "train_df.cache()\n",
    "test_df.cache()"
   ]
  },
  {
   "cell_type": "markdown",
   "metadata": {},
   "source": [
    "(c)\n",
    "Use the spark.ml library to train an implicit matrix factorization model using Alternating Least Squares (ALS)."
   ]
  },
  {
   "cell_type": "code",
   "execution_count": 102,
   "metadata": {},
   "outputs": [],
   "source": [
    "from pyspark.ml.recommendation import ALS\n",
    "from pyspark.sql.types import DoubleType\n",
    "\n",
    "# Cast \"play_count\" \n",
    "train_df = train_df.withColumn(\"play_count\", train_df[\"play_count\"].cast(DoubleType()))\n",
    "\n",
    "\n",
    "als = ALS(maxIter=5, regParam=0.01, userCol=\"user_code\", itemCol=\"song_code\", ratingCol=\"play_count\", \n",
    "          implicitPrefs=True, coldStartStrategy=\"drop\")\n",
    "\n",
    "# training \n",
    "als_model = als.fit(train_df)"
   ]
  },
  {
   "cell_type": "markdown",
   "metadata": {},
   "source": [
    "(d)\n",
    "Select a few of the users from the test set by hand and use the model to generate some recommendations. Compare these recommendations to the songs the user has actually played. Comment on the effectiveness of the collaborative filtering model."
   ]
  },
  {
   "cell_type": "code",
   "execution_count": 103,
   "metadata": {},
   "outputs": [
    {
     "name": "stdout",
     "output_type": "stream",
     "text": [
      "+--------------------+------------------+----------+---------+---------+\n",
      "|             user_id|           song_id|play_count|song_code|user_code|\n",
      "+--------------------+------------------+----------+---------+---------+\n",
      "|5a3417a1955d91364...|SOASNQV12A8AE48819|         1|   1634.0| 104706.0|\n",
      "|5a3417a1955d91364...|SOBAXIM12A6D4F8C47|         1|   2337.0| 104706.0|\n",
      "|5a3417a1955d91364...|SOBBTUB12A67020389|         1|   2415.0| 104706.0|\n",
      "|5a3417a1955d91364...|SOBCADW12A8C13AB68|         1|   2439.0| 104706.0|\n",
      "|5a3417a1955d91364...|SOBHWEK12A6701EB1A|         1|   2941.0| 104706.0|\n",
      "|5a3417a1955d91364...|SOBLDDB12AB0183223|         1|   3232.0| 104706.0|\n",
      "|5a3417a1955d91364...|SOCDGPD12AF72A8346|         1|   4878.0| 104706.0|\n",
      "|5a3417a1955d91364...|SOCLYAC12AF72A99DD|         1|   5594.0| 104706.0|\n",
      "|5a3417a1955d91364...|SOCOTVS12A6D4F6061|         1|   5807.0| 104706.0|\n",
      "|5a3417a1955d91364...|SOCQIFO12A58A7B74C|         1|   5949.0| 104706.0|\n",
      "|5a3417a1955d91364...|SOCRNTA12A8C13CCB6|         1|   6055.0| 104706.0|\n",
      "|5a3417a1955d91364...|SOCTZSW12A8C141EEC|         1|   6262.0| 104706.0|\n",
      "|5a3417a1955d91364...|SOCURDG12A8C13A255|         2|   6320.0| 104706.0|\n",
      "|5a3417a1955d91364...|SODATJZ12A6D4F807D|         1|   6853.0| 104706.0|\n",
      "|5a3417a1955d91364...|SODDQOW12A58A7FE08|         1|   7116.0| 104706.0|\n",
      "+--------------------+------------------+----------+---------+---------+\n",
      "only showing top 15 rows\n",
      "\n"
     ]
    }
   ],
   "source": [
    "user_code = '104706.0'\n",
    "user_1 = test_df.select(F.col(\"*\")).filter(F.col(\"user_code\") == user_code)\n",
    "user_1.cache()\n",
    "\n",
    "user_1.show(15)"
   ]
  },
  {
   "cell_type": "code",
   "execution_count": 104,
   "metadata": {},
   "outputs": [
    {
     "name": "stdout",
     "output_type": "stream",
     "text": [
      "root\n",
      " |-- user_id: string (nullable = true)\n",
      " |-- song_id: string (nullable = true)\n",
      " |-- play_count: integer (nullable = true)\n",
      " |-- song_code: double (nullable = true)\n",
      " |-- user_code: double (nullable = true)\n",
      " |-- prediction: float (nullable = false)\n",
      "\n",
      "+--------------------+------------------+----------+---------+---------+-------------+\n",
      "|             user_id|           song_id|play_count|song_code|user_code|   prediction|\n",
      "+--------------------+------------------+----------+---------+---------+-------------+\n",
      "|5a3417a1955d91364...|SOCOTVS12A6D4F6061|         1|   5807.0| 104706.0| 0.0050949175|\n",
      "|5a3417a1955d91364...|SOFHATE12A6D4FB15D|         1|  11983.0| 104706.0| 0.0022668783|\n",
      "|5a3417a1955d91364...|SOJZZUX12A8C13FC44|         1|  22497.0| 104706.0| 0.0072238296|\n",
      "|5a3417a1955d91364...|SOGYZGS12A6D4F83F7|         1|  15849.0| 104706.0|  0.017082313|\n",
      "|5a3417a1955d91364...|SONRFMM12A58A77F4A|         1|  30392.0| 104706.0| 0.0061356877|\n",
      "|5a3417a1955d91364...|SOUUEGD12A58A8024E|         1|  45168.0| 104706.0|  0.009102178|\n",
      "|5a3417a1955d91364...|SOXPZEZ12A8AE48AC9|         1|  50919.0| 104706.0|  0.028779186|\n",
      "|5a3417a1955d91364...|SODHFCC12A58A7B15B|         1|   7455.0| 104706.0|  0.013328623|\n",
      "|5a3417a1955d91364...|SOFRMWS12A8AE45730|         1|  12903.0| 104706.0| 0.0025931709|\n",
      "|5a3417a1955d91364...|SOHBIJQ12A8C13A2B4|         1|  16045.0| 104706.0| 0.0034614909|\n",
      "|5a3417a1955d91364...|SOWPRSS12AF72A646C|         1|  48870.0| 104706.0| 0.0022384012|\n",
      "|5a3417a1955d91364...|SOBCADW12A8C13AB68|         1|   2439.0| 104706.0|-8.9732173E-4|\n",
      "|5a3417a1955d91364...|SOEWWCI12AB018A677|         1|  11114.0| 104706.0|  0.017002773|\n",
      "|5a3417a1955d91364...|SOFYOCS12AB0184AFF|         1|  13515.0| 104706.0|  0.010653911|\n",
      "|5a3417a1955d91364...|SOVHZBK12AF72A66E8|         1|  46204.0| 104706.0| 0.0116263535|\n",
      "+--------------------+------------------+----------+---------+---------+-------------+\n",
      "only showing top 15 rows\n",
      "\n"
     ]
    }
   ],
   "source": [
    "# Predict relevance scores\n",
    "pred_user_1 = als_model.transform(user_1)\n",
    "pred_user_1.cache()\n",
    "\n",
    "pred_user_1.printSchema()\n",
    "pred_user_1.show(15)"
   ]
  },
  {
   "cell_type": "code",
   "execution_count": 105,
   "metadata": {},
   "outputs": [
    {
     "name": "stdout",
     "output_type": "stream",
     "text": [
      "12.3 G   98.1 G   /data/msd/audio\r\n",
      "30.1 M   241.0 M  /data/msd/genre\r\n",
      "174.4 M  1.4 G    /data/msd/main\r\n",
      "490.4 M  3.8 G    /data/msd/tasteprofile\r\n"
     ]
    }
   ],
   "source": [
    "!hdfs dfs -du -h /data/msd/"
   ]
  },
  {
   "cell_type": "code",
   "execution_count": 109,
   "metadata": {},
   "outputs": [
    {
     "name": "stdout",
     "output_type": "stream",
     "text": [
      "Number of rows in Main/Summary Dataset: 1000000\n"
     ]
    }
   ],
   "source": [
    "main_summary_df = spark.read.format(\"csv\").option(\"header\", \"true\").load(\"hdfs:///data/msd/main/summary/metadata.csv.gz\")\n",
    "main_count = main_summary_df.count()\n",
    "print(f\"Number of rows in Main/Summary Dataset: {main_count}\")"
   ]
  },
  {
   "cell_type": "code",
   "execution_count": 110,
   "metadata": {},
   "outputs": [
    {
     "name": "stdout",
     "output_type": "stream",
     "text": [
      "+------------------+--------------------+----------+---------+---------+--------------------+--------------------+\n",
      "|           song_id|             user_id|play_count|song_code|user_code|               title|         artist_name|\n",
      "+------------------+--------------------+----------+---------+---------+--------------------+--------------------+\n",
      "|SOETILF12A6310E26B|5a3417a1955d91364...|         1|  10795.0| 104706.0|     Take Everything|          Mazzy Star|\n",
      "|SOJEKRF12A8C133CC3|5a3417a1955d91364...|         1|  20625.0| 104706.0|          No_ No_ No|     Destiny's Child|\n",
      "|SOOMRQC12A67021882|5a3417a1955d91364...|         1|  32194.0| 104706.0|       Opening Title|      Massive Attack|\n",
      "|SOQVQSG12A8C13C64E|5a3417a1955d91364...|         1|  37093.0| 104706.0|      Among The Dead|       Tim Armstrong|\n",
      "|SOVWEZE12A6701DF46|5a3417a1955d91364...|         1|  47329.0| 104706.0|Insomnia And The ...|                Live|\n",
      "|SOWALWE12A58A7E37D|5a3417a1955d91364...|         1|  47652.0| 104706.0|Hippy Hippy Shake...|  Georgia Satellites|\n",
      "|SOXPZEZ12A8AE48AC9|5a3417a1955d91364...|         1|  50919.0| 104706.0|     Some Kinda Love|The Velvet Underg...|\n",
      "|SOTKHDG12B3505868F|5a3417a1955d91364...|         2|  42333.0| 104706.0|   Ripe (With Decay)|     Nine Inch Nails|\n",
      "|SOTLURY12AB0183C93|5a3417a1955d91364...|         3|  42442.0| 104706.0|    Mr Wendal (Edit)|ARRESTED DEVELOPMENT|\n",
      "|SOCRNTA12A8C13CCB6|5a3417a1955d91364...|         1|   6055.0| 104706.0|        Battery Acid|Queens Of The Sto...|\n",
      "|SOIPBOG12A58A76698|5a3417a1955d91364...|         1|  19369.0| 104706.0|Funland At The Beach|       Dead Kennedys|\n",
      "|SONZSEA12AF72A0F28|5a3417a1955d91364...|         1|  31113.0| 104706.0|             Head On|              Pixies|\n",
      "|SOOJKFU12A81C223E0|5a3417a1955d91364...|         1|  31919.0| 104706.0|\"Big Blonde And B...|       Queen Latifah|\n",
      "|SOPMURQ12AF729C6E5|5a3417a1955d91364...|         1|  34266.0| 104706.0|    Callas Went Away|              Enigma|\n",
      "|SOQXKUV12A6D4FB4C9|5a3417a1955d91364...|         1|  37241.0| 104706.0|          Amityville|    Eminem / Bizarre|\n",
      "|SOYKEHE12A67ADAF01|5a3417a1955d91364...|         1|  52493.0| 104706.0|       There For You|       Damian Marley|\n",
      "|SOJIVQV12A6D4F74D4|5a3417a1955d91364...|         1|  20975.0| 104706.0|              Kozmic|Ziggy Marley And ...|\n",
      "|SOPIHGT12A8C13F808|5a3417a1955d91364...|         1|  33917.0| 104706.0|        Nimrod\u0019s Son|              Pixies|\n",
      "|SOCURDG12A8C13A255|5a3417a1955d91364...|         2|   6320.0| 104706.0|Green Day (Album ...|           Green Day|\n",
      "|SODDQOW12A58A7FE08|5a3417a1955d91364...|         1|   7116.0| 104706.0|  Long Lonely Nights|Lee Andrews And T...|\n",
      "|SODHFCC12A58A7B15B|5a3417a1955d91364...|         1|   7455.0| 104706.0|Three Days (2006 ...|    Jane's Addiction|\n",
      "|SOFRMWS12A8AE45730|5a3417a1955d91364...|         1|  12903.0| 104706.0|A Whiter Shade Of...|          Joe Cocker|\n",
      "|SOKAMAZ12A6701E0C4|5a3417a1955d91364...|         1|  22545.0| 104706.0|            Diskobox|                Beck|\n",
      "|SOVNASH12AB017DE23|5a3417a1955d91364...|         1|  46627.0| 104706.0|         Stoopid Ass|   Grand Theft Audio|\n",
      "|SODMHXD12A8C137F53|5a3417a1955d91364...|         1|   7875.0| 104706.0|               Clock|                Beck|\n",
      "|SOEDGFA12A8AE4884B|5a3417a1955d91364...|         2|   9400.0| 104706.0|Devil's Son (Albu...|         DevilDriver|\n",
      "|SOGOSHO12AB0184D38|5a3417a1955d91364...|         1|  14976.0| 104706.0|      Crack A Bottle|Eminem / Dr. Dre ...|\n",
      "|SOGOSHO12AB0184D38|5a3417a1955d91364...|         1|  14976.0| 104706.0|      Crack A Bottle|Eminem / Dr. Dre ...|\n",
      "|SOPUQXH12AC960A22C|5a3417a1955d91364...|         1|  34926.0| 104706.0|            Her Kiss|      In This Moment|\n",
      "|SOQWIVT12B0B808416|5a3417a1955d91364...|         1|  37145.0| 104706.0|Lady Godiva's Ope...|The Velvet Underg...|\n",
      "|SOASNQV12A8AE48819|5a3417a1955d91364...|         1|   1634.0| 104706.0|Charly (Trip Into...|         The Prodigy|\n",
      "|SOCQIFO12A58A7B74C|5a3417a1955d91364...|         1|   5949.0| 104706.0|           Stunt 101|              G-Unit|\n",
      "|SODYLIK12AB01849AF|5a3417a1955d91364...|         1|   8965.0| 104706.0|               Sleep|            Lagwagon|\n",
      "|SOEWWCI12AB018A677|5a3417a1955d91364...|         1|  11114.0| 104706.0|THAT'S THE WAY I ...|               AC/DC|\n",
      "|SOGTBTD12AB018540D|5a3417a1955d91364...|         1|  15337.0| 104706.0|       Rooms On Fire|        Stevie Nicks|\n",
      "|SOJIMWI12A58A7C8FF|5a3417a1955d91364...|         1|  20942.0| 104706.0|Hey Baby (After T...|             Ashanti|\n",
      "|SONLDJZ12A8AE484DE|5a3417a1955d91364...|         1|  29897.0| 104706.0|Outta My Head (Ay...|      Ashlee Simpson|\n",
      "|SOQAMMG12A6D4F8C9C|5a3417a1955d91364...|         1|  35394.0| 104706.0|            Gridlock|             Anthrax|\n",
      "|SOWMBCE12A58A7B377|5a3417a1955d91364...|         1|  48577.0| 104706.0|Roll On Down The ...|Bachman-Turner Ov...|\n",
      "|SOBCADW12A8C13AB68|5a3417a1955d91364...|         1|   2439.0| 104706.0|Last Fight For Th...|             Gallows|\n",
      "|SODXFAS12A58A7B24B|5a3417a1955d91364...|         1|   8846.0| 104706.0|Sympathy For The ...|       Guns N' Roses|\n",
      "|SODXFAS12A58A7B24B|5a3417a1955d91364...|         1|   8846.0| 104706.0|Sympathy For The ...|       Guns N' Roses|\n",
      "|SOEPNTG12AB01812BF|5a3417a1955d91364...|         1|  10482.0| 104706.0|              Killer|             Adamski|\n",
      "|SOEULZE12A8C13E636|5a3417a1955d91364...|         1|  10897.0| 104706.0|          I Get Evil|         Albert King|\n",
      "|SOFQWHD12A58A7C5AC|5a3417a1955d91364...|         1|  12846.0| 104706.0|The KKK Took My B...|             Ramones|\n",
      "|SOHVOVW12A6D4F6F99|5a3417a1955d91364...|         1|  17736.0| 104706.0|             Deadeye|      New Model Army|\n",
      "|SOKVVQN12A6D4F9107|5a3417a1955d91364...|         1|  24316.0| 104706.0|Dirty Mind (Album...|              Prince|\n",
      "|SOLUDNZ12A8C133624|5a3417a1955d91364...|         1|  26364.0| 104706.0|                 MFC|           Pearl Jam|\n",
      "|SOSLSWA12A6D4F9828|5a3417a1955d91364...|         1|  40407.0| 104706.0|        Pencil Skirt|                Pulp|\n",
      "|SOUZDCA12A67ADD2FF|5a3417a1955d91364...|         1|  45533.0| 104706.0|A Little Bit Of Shhh|      Lady Sovereign|\n",
      "|SOXXTUG12A8C137745|5a3417a1955d91364...|         1|  51526.0| 104706.0|Counting Bodies L...|    A Perfect Circle|\n",
      "|SODATJZ12A6D4F807D|5a3417a1955d91364...|         1|   6853.0| 104706.0|               Angel|             Erasure|\n",
      "|SOFMEIY12B0B80C5E0|5a3417a1955d91364...|         1|  12434.0| 104706.0|                 Dry|           PJ Harvey|\n",
      "|SOGGREZ12A8C134EFB|5a3417a1955d91364...|         1|  14275.0| 104706.0|         Smoking Gun|         Robert Cray|\n",
      "|SOKXUJQ12A6D4F3C96|5a3417a1955d91364...|         2|  24477.0| 104706.0|        Western Eyes|          Portishead|\n",
      "|SOLETIR12AF729DD7B|5a3417a1955d91364...|         1|  25058.0| 104706.0|         Break Stuff|         Limp Bizkit|\n",
      "|SOODVDL12A6701F9C6|5a3417a1955d91364...|         1|  31458.0| 104706.0|      So Like A Rose|             Garbage|\n",
      "|SOCLYAC12AF72A99DD|5a3417a1955d91364...|         1|   5594.0| 104706.0|Kids With Guns (J...|            Gorillaz|\n",
      "|SOGIFFP12A6701BF53|5a3417a1955d91364...|         1|  14409.0| 104706.0|Good Girls_ Bad Guys|          DMX / Dyme|\n",
      "|SOGLRDV12A6D4F6D73|5a3417a1955d91364...|         1|  14718.0| 104706.0|  Well Did You Evah!|Deborah Harry & I...|\n",
      "|SOGUVCK12A58A7E71D|5a3417a1955d91364...|         1|  15492.0| 104706.0| Motorway To Roswell|              Pixies|\n",
      "|SONXYLQ12A58A7B1F8|5a3417a1955d91364...|         1|  30956.0| 104706.0|             Loyalty|   D-12 / Obie Trice|\n",
      "|SOSKIEN12AF72A6CBE|5a3417a1955d91364...|         1|  40286.0| 104706.0|                Rose|    A Perfect Circle|\n",
      "|SOWQBEW12A67ADE288|5a3417a1955d91364...|         1|  48904.0| 104706.0|        Lone Justice|             Anthrax|\n",
      "|SOELRGX12A6D4F41D3|5a3417a1955d91364...|         3|  10138.0| 104706.0|             Namaste|        Beastie Boys|\n",
      "|SOGLJLK12A6D4F623A|5a3417a1955d91364...|         1|  14686.0| 104706.0|DWYCK (Explicit) ...|Gang Starr Featur...|\n",
      "|SOTMOQP12A6702165A|5a3417a1955d91364...|         1|  42520.0| 104706.0|Here Come The Bas...|              Primus|\n",
      "|SOUCRLK12A6D4F68CB|5a3417a1955d91364...|         1|  43787.0| 104706.0|          Stay Tuned|          Gang Starr|\n",
      "|SOUUEGD12A58A8024E|5a3417a1955d91364...|         1|  45168.0| 104706.0|Monsters In The P...|Queens Of The Sto...|\n",
      "|SOWWQXA12A81C1F9CA|5a3417a1955d91364...|         1|  49390.0| 104706.0|                null|                null|\n",
      "|SOWXWVO12B0B806701|5a3417a1955d91364...|         1|  49491.0| 104706.0|The Air Is Gettin...|              Primus|\n",
      "|SOZZUJK12A8C139BB8|5a3417a1955d91364...|         1|  55628.0| 104706.0|           Elevators|             OutKast|\n",
      "|SODUUIF12A6701F2D1|5a3417a1955d91364...|         1|   8636.0| 104706.0|Loading The Weapo...|           Disturbed|\n",
      "|SOFYOCS12AB0184AFF|5a3417a1955d91364...|         1|  13515.0| 104706.0|  Return of the Tres|   Delinquent Habits|\n",
      "|SOGYZGS12A6D4F83F7|5a3417a1955d91364...|         1|  15849.0| 104706.0|Transylvania (Liv...|         Iron Maiden|\n",
      "|SOQGJSO12A6701FD71|5a3417a1955d91364...|         2|  35849.0| 104706.0|       Restin' Bones|              Primus|\n",
      "|SOQSXVR12A8C137106|5a3417a1955d91364...|         2|  36861.0| 104706.0|      Sick Of It All|      The Distillers|\n",
      "|SOTOUYU12A6701E7AD|5a3417a1955d91364...|         1|  42713.0| 104706.0|Where The Wild Ro...|Nick Cave & The B...|\n",
      "|SOVCIIB12A6D4F795C|5a3417a1955d91364...|         1|  45751.0| 104706.0|      Where Are You?|    Public Image Ltd|\n",
      "|SOQZGFG12B0B808CB2|5a3417a1955d91364...|         1|  37372.0| 104706.0|            Flaphead|          Aphex Twin|\n",
      "|SOSEXRD12A67ADE28D|5a3417a1955d91364...|         2|  39834.0| 104706.0|        I Am The Law|             Anthrax|\n",
      "|SOJRDNG12A6D4F9119|5a3417a1955d91364...|         1|  21663.0| 104706.0|     Since Yesterday|Strawberry Switch...|\n",
      "|SOKBVSM12A8C13B67B|5a3417a1955d91364...|         1|  22654.0| 104706.0|        The Gauntlet|    Dropkick Murphys|\n",
      "|SOTXJDX12A8C14442C|5a3417a1955d91364...|         1|  43355.0| 104706.0|We're Not Gonna T...|      Less Than Jake|\n",
      "|SOZOBPI12A58A7EECA|5a3417a1955d91364...|         1|  54728.0| 104706.0| The Heart Collector|           Nevermore|\n",
      "|SOBBTUB12A67020389|5a3417a1955d91364...|         1|   2415.0| 104706.0|       Squeeze First|               Jay-Z|\n",
      "|SOKMJQF12A6310D858|5a3417a1955d91364...|         1|  23560.0| 104706.0|             Dopeman|      Less Than Jake|\n",
      "|SOPUUCJ12A8AE46447|5a3417a1955d91364...|         1|  34941.0| 104706.0|What Comes Around...|            Ill Nino|\n",
      "|SORGSIK12A6D4F8E77|5a3417a1955d91364...|         1|  37952.0| 104706.0|             Take It|The Jesus And Mar...|\n",
      "|SOBHWEK12A6701EB1A|5a3417a1955d91364...|         1|   2941.0| 104706.0|           Rock Star|                Hole|\n",
      "|SOCDGPD12AF72A8346|5a3417a1955d91364...|         1|   4878.0| 104706.0|       Murdoc Is God|            Gorillaz|\n",
      "|SOFHATE12A6D4FB15D|5a3417a1955d91364...|         1|  11983.0| 104706.0|&and She Told Me ...|        Lostprophets|\n",
      "|SOJZZUX12A8C13FC44|5a3417a1955d91364...|         1|  22497.0| 104706.0|         The Eternal|        Joy Division|\n",
      "|SOWPRSS12AF72A646C|5a3417a1955d91364...|         1|  48870.0| 104706.0|          You Got It|            Mudhoney|\n",
      "|SOBLDDB12AB0183223|5a3417a1955d91364...|         1|   3232.0| 104706.0|          Arcarsenal|     At The Drive-In|\n",
      "|SODZGPI12AB01871A9|5a3417a1955d91364...|         1|   9038.0| 104706.0|              Undone|Five Finger Death...|\n",
      "|SOHTHLP12A58A7EF54|5a3417a1955d91364...|         1|  17570.0| 104706.0|Jerry Was A Race ...|              Primus|\n",
      "|SOILBPW12B0B806A0E|5a3417a1955d91364...|         1|  19044.0| 104706.0|Pretty When You C...|                VAST|\n",
      "|SOVHRGF12A8C13852F|5a3417a1955d91364...|         1|  46174.0| 104706.0|           Generator|        Foo Fighters|\n",
      "|SOXNFHG12A8C135C55|5a3417a1955d91364...|         1|  50705.0| 104706.0|                Drop|        The Pharcyde|\n",
      "|SOGDKDD12A3F1ED522|5a3417a1955d91364...|         1|  13957.0| 104706.0|Calling (Album Ve...|             Taproot|\n",
      "|SOCOTVS12A6D4F6061|5a3417a1955d91364...|         1|   5807.0| 104706.0|    Dancing Barefoot|                  U2|\n",
      "|SOUVLYG12AB017F5D0|5a3417a1955d91364...|         1|  45263.0| 104706.0|      In the Kitchen|     Umphrey's McGee|\n",
      "|SOVGLXA12A8C13E8CB|5a3417a1955d91364...|         1|  46091.0| 104706.0|   Lord Of The Dance|         The Vandals|\n",
      "|SOVKWVP12A58A7AA8D|5a3417a1955d91364...|         1|  46435.0| 104706.0|Raped And Freezin...|        Alice Cooper|\n",
      "|SOZUDAH12A8C144925|5a3417a1955d91364...|         1|  55177.0| 104706.0|          Kinky Afro|       Happy Mondays|\n",
      "|SONIFRR12A8AE46079|5a3417a1955d91364...|         1|  29648.0| 104706.0|        Movin' On Up|       Primal Scream|\n",
      "|SOWQNZK12A8C13F7D9|5a3417a1955d91364...|         1|  48952.0| 104706.0|        Onyx Is Back|                Onyx|\n",
      "|SOOIEXU12AB018167C|5a3417a1955d91364...|         1|  31823.0| 104706.0|     In These Shoes?|      Kirsty MacColl|\n",
      "|SORWTYM12A8C13D401|5a3417a1955d91364...|         1|  39179.0| 104706.0|          The Loving|                 XTC|\n",
      "|SOSKEYG12A8C13A297|5a3417a1955d91364...|         1|  40277.0| 104706.0|    Protest Song '68|             Refused|\n",
      "|SOUFTDQ12A8C13B4A8|5a3417a1955d91364...|         1|  44031.0| 104706.0|The Fortunes of W...|    Dropkick Murphys|\n",
      "|SOWLMBO12A8C13EEC1|5a3417a1955d91364...|         1|  48535.0| 104706.0|Dope Man (Dr. Dre...|              N.W.A.|\n",
      "|SODMDJO12A58A7B412|5a3417a1955d91364...|         1|   7859.0| 104706.0|Death Comes Out T...|            Overkill|\n",
      "|SOPKWGR12A8C13A27D|5a3417a1955d91364...|         1|  34121.0| 104706.0|    Bruitist Pome #5|             Refused|\n",
      "|SORWJDQ12A58A7659C|5a3417a1955d91364...|         1|  39156.0| 104706.0|              Funk U|          Ted Nugent|\n",
      "|SOVOLHE12A670212C3|5a3417a1955d91364...|         1|  46727.0| 104706.0|  The Last One Alive|                VAST|\n",
      "|SOYHIKZ12A6701EA4F|5a3417a1955d91364...|         1|  52258.0| 104706.0|      All Or Nothin'|Tom Petty And The...|\n",
      "|SODXTMM12AF729F8F1|5a3417a1955d91364...|         1|   8902.0| 104706.0|            Mama Kin|       Guns N' Roses|\n",
      "|SOITOOE12A58A7BD24|5a3417a1955d91364...|         2|  19728.0| 104706.0|Batdance ( LP Ver...|              Prince|\n",
      "|SOJIFFL12AB017D875|5a3417a1955d91364...|         1|  20916.0| 104706.0|Devil On My Shoulder|        Billy Talent|\n",
      "|SOITBKC12A58A7C01F|5a3417a1955d91364...|         1|  19683.0| 104706.0|How Can I Live (S...|            Ill Nino|\n",
      "|SOIXYSR12A6D4FA418|5a3417a1955d91364...|         1|  20100.0| 104706.0|Mascara (LP Version)|            Deftones|\n",
      "|SOLEEUJ12A6701C787|5a3417a1955d91364...|         1|  25014.0| 104706.0|Rollin' (Air Raid...|         Limp Bizkit|\n",
      "|SOQNVXY12A8C137034|5a3417a1955d91364...|         1|  36437.0| 104706.0|I Like To Rock (2...|          April Wine|\n",
      "|SOVHZBK12AF72A66E8|5a3417a1955d91364...|         1|  46204.0| 104706.0|           Oh My God|A Tribe Called Quest|\n",
      "|SOBAXIM12A6D4F8C47|5a3417a1955d91364...|         1|   2337.0| 104706.0|Murderers (Album ...|     John Frusciante|\n",
      "|SOGWIHA12AB018AA52|5a3417a1955d91364...|         1|  15625.0| 104706.0|This Place Is Dea...|            Deftones|\n",
      "|SOGWWPR12A8C13D040|5a3417a1955d91364...|         1|  15678.0| 104706.0|             Hold On|       Tim Armstrong|\n",
      "|SOJWBSI12A6D4F7955|5a3417a1955d91364...|         1|  22129.0| 104706.0|              Attack|    Public Image Ltd|\n",
      "|SOUEFDV12AF72ACC14|5a3417a1955d91364...|         1|  43911.0| 104706.0|              Scared| Ashanti / Irv Gotti|\n",
      "|SOFGASP12A6D4F7B87|5a3417a1955d91364...|         1|  11907.0| 104706.0|            Cry Wolf|    Angelic Upstarts|\n",
      "|SOHIUXB12A8C14321A|5a3417a1955d91364...|         2|  16676.0| 104706.0|Ricochet (2009 Re...|       Faith No More|\n",
      "|SOHWMEV12A6D4F73AE|5a3417a1955d91364...|         2|  17806.0| 104706.0|            48 Crash|         Suzi Quatro|\n",
      "|SOVUOOE12A6D4F86A3|5a3417a1955d91364...|         2|  47201.0| 104706.0|      Puss 'N' Boots|  The New York Dolls|\n",
      "|SOWZGBU12A6D4F8C45|5a3417a1955d91364...|         1|  49590.0| 104706.0|Ramparts (Album V...|     John Frusciante|\n",
      "|SOHBIJQ12A8C13A2B4|5a3417a1955d91364...|         1|  16045.0| 104706.0|The Shape Of Punk...|             Refused|\n",
      "|SOQHGFS12AB0188A72|5a3417a1955d91364...|         1|  35928.0| 104706.0|Death Walks Behin...|      Atomic Rooster|\n",
      "|SOYYIZT12A8C1408CA|5a3417a1955d91364...|         1|  53542.0| 104706.0|           Next Year|        Foo Fighters|\n",
      "|SOGDJVK12B0B807676|5a3417a1955d91364...|         1|  13955.0| 104706.0|     Kids Wanna Rock|         Bryan Adams|\n",
      "|SOGHAOP12A67ADA4D0|5a3417a1955d91364...|         1|  14303.0| 104706.0|      King For A Day|       Faith No More|\n",
      "|SOMJRNY12A6D4FA03E|5a3417a1955d91364...|         1|  27622.0| 104706.0|            No Limit|         2 Unlimited|\n",
      "|SOMZUZF12A6D4F8762|5a3417a1955d91364...|         1|  28946.0| 104706.0|            Contract|        Gang Of Four|\n",
      "|SOOPBKN12A6310D88E|5a3417a1955d91364...|         1|  32356.0| 104706.0|    Pledging My Love|      Jackie Edwards|\n",
      "|SOVOWMI12A8C13BA95|5a3417a1955d91364...|         1|  46768.0| 104706.0|I Am the One (Alb...|              Rancid|\n",
      "|SOWSXQV12AF729FC70|5a3417a1955d91364...|         2|  49135.0| 104706.0|   B.Y.S. (Explicit)|          Gang Starr|\n",
      "|SOWWYBK12A8C145607|5a3417a1955d91364...|         1|  49418.0| 104706.0|      Age Of Consent|           New Order|\n",
      "|SOXJWOF12A6701E04B|5a3417a1955d91364...|         1|  50421.0| 104706.0|The Queen And The...|        Suzanne Vega|\n",
      "|SOZHSIV12A6310E85A|5a3417a1955d91364...|         1|  54263.0| 104706.0|             Feed Me|              Tricky|\n",
      "|SODEKWG12A8C134DC1|5a3417a1955d91364...|         1|   7197.0| 104706.0|              Would?|     Alice In Chains|\n",
      "|SOEJCEZ12A6D4FC330|5a3417a1955d91364...|         1|   9913.0| 104706.0|           Stargazer|    Mother Love Bone|\n",
      "|SOEPZBL12A6D4F59C6|5a3417a1955d91364...|         1|  10521.0| 104706.0|               Shame|           PJ Harvey|\n",
      "|SONRFMM12A58A77F4A|5a3417a1955d91364...|         1|  30392.0| 104706.0|               Demon|             Trivium|\n",
      "|SOCTZSW12A8C141EEC|5a3417a1955d91364...|         1|   6262.0| 104706.0|Living Loving Mai...|        Led Zeppelin|\n",
      "|SOGFWPF12A8C132B52|5a3417a1955d91364...|         1|  14204.0| 104706.0|Wasn't Born To Fo...|           The Byrds|\n",
      "|SOSXDRR12A58A7BF50|5a3417a1955d91364...|         1|  41323.0| 104706.0|     World Up My Ass|        Circle Jerks|\n",
      "|SOTYAJM12A6D4FD0EE|5a3417a1955d91364...|         1|  43402.0| 104706.0|Mountain Song ( L...|    Jane's Addiction|\n",
      "|SOUPHCO12AB018A2E1|5a3417a1955d91364...|         1|  44755.0| 104706.0|     Kiss That Grrrl|           Kate Nash|\n",
      "|SOQLDAV12AF72A0AA9|5a3417a1955d91364...|         2|  36241.0| 104706.0|     Deuces Are Wild|           Aerosmith|\n",
      "|SOSXIZS12A58A789C4|5a3417a1955d91364...|         1|  41337.0| 104706.0|          Tropicalia|                Beck|\n",
      "|SOTVCGE12A8C13AAC7|5a3417a1955d91364...|         2|  43198.0| 104706.0|   All That Glitters|Death In Vegas;St...|\n",
      "|SOMMONH12A6D4F41CD|5a3417a1955d91364...|         1|  27860.0| 104706.0|         The Maestro|        Beastie Boys|\n",
      "|SOYFRYD12A8AE4741E|5a3417a1955d91364...|         2|  52150.0| 104706.0|         Isopropanol|          Aphex Twin|\n",
      "|SOYHXCD12A67020A6E|5a3417a1955d91364...|         1|  52287.0| 104706.0|           Road Rage|           Catatonia|\n",
      "|SOYQKAM12A81C22225|5a3417a1955d91364...|         1|  52952.0| 104706.0|     Fear And Wonder|        Dimmu Borgir|\n",
      "|SOYVQVY12AAF3B3E6C|5a3417a1955d91364...|         1|  53314.0| 104706.0|        Highway Star|         Deep Purple|\n",
      "+------------------+--------------------+----------+---------+---------+--------------------+--------------------+\n",
      "\n"
     ]
    }
   ],
   "source": [
    "# Import necessary functions\n",
    "from pyspark.sql.functions import explode, col\n",
    "from pyspark.sql.types import DoubleType, StructType, StructField, FloatType, ArrayType\n",
    "\n",
    "# Ensure main_summary_df is cached\n",
    "main_summary_df.cache()\n",
    "\n",
    "# Join user history with metadata\n",
    "user_history_with_metadata = user_1.join(\n",
    "    main_summary_df.select(\"song_id\", \"title\", \"artist_name\"),\n",
    "    on=\"song_id\",\n",
    "    how=\"left\"\n",
    ")\n",
    "\n",
    "# Show the user history with metadata\n",
    "user_history_with_metadata.show(20000)"
   ]
  },
  {
   "cell_type": "code",
   "execution_count": 111,
   "metadata": {},
   "outputs": [
    {
     "name": "stdout",
     "output_type": "stream",
     "text": [
      "root\n",
      " |-- user_code: integer (nullable = false)\n",
      " |-- recommendations: array (nullable = true)\n",
      " |    |-- element: struct (containsNull = true)\n",
      " |    |    |-- song_code: integer (nullable = true)\n",
      " |    |    |-- rating: float (nullable = true)\n",
      "\n",
      "+---------+--------------------+\n",
      "|user_code|     recommendations|\n",
      "+---------+--------------------+\n",
      "|       12|[{41725, 0.230370...|\n",
      "|       18|[{34562, 0.231026...|\n",
      "|       38|[{9676, 0.502154}...|\n",
      "|       70|[{27357, 0.084006...|\n",
      "|       93|[{9676, 0.3521191...|\n",
      "|      190|[{27357, 0.088144...|\n",
      "|      218|[{17580, 0.334366...|\n",
      "|      273|[{29480, 0.137816...|\n",
      "|      300|[{34562, 0.045260...|\n",
      "|      340|[{34867, 1.034727...|\n",
      "|      343|[{6414, 0.3763514...|\n",
      "|      412|[{3531, 0.1767929...|\n",
      "|      434|[{2034, 0.0658657...|\n",
      "|      475|[{29480, 0.344008...|\n",
      "|      536|[{26990, 0.064332...|\n",
      "|      585|[{2034, 0.6217163...|\n",
      "|      600|[{4038, 0.3778083...|\n",
      "|      611|[{29683, 0.242981...|\n",
      "|      615|[{9676, 0.3912971...|\n",
      "|      619|[{2034, 0.6144342...|\n",
      "+---------+--------------------+\n",
      "only showing top 20 rows\n",
      "\n"
     ]
    }
   ],
   "source": [
    "# Generate recommendations\n",
    "\n",
    "k = 15\n",
    "\n",
    "recommendations_1 = als_model.recommendForAllUsers(k)\n",
    "\n",
    "recommendations_1.printSchema()\n",
    "recommendations_1.cache()\n",
    "recommendations_1.show()"
   ]
  },
  {
   "cell_type": "code",
   "execution_count": 112,
   "metadata": {},
   "outputs": [
    {
     "name": "stdout",
     "output_type": "stream",
     "text": [
      "root\n",
      " |-- user_code: double (nullable = true)\n",
      " |-- relevant: array (nullable = false)\n",
      " |    |-- element: struct (containsNull = false)\n",
      " |    |    |-- play_count: integer (nullable = true)\n",
      " |    |    |-- song_code: double (nullable = true)\n",
      "\n",
      "+---------+--------------------+\n",
      "|user_code|            relevant|\n",
      "+---------+--------------------+\n",
      "| 104706.0|[{3, 42442.0}, {3...|\n",
      "+---------+--------------------+\n",
      "\n"
     ]
    }
   ],
   "source": [
    "# Collect and sort relevant items in order of descending relevance \n",
    "\n",
    "relevant_1 = (\n",
    "    user_1\n",
    "    .groupBy(\"user_code\")\n",
    "    .agg(\n",
    "        F.reverse(F.sort_array(F.collect_list(\n",
    "            F.struct(\n",
    "                F.col(\"play_count\"),\n",
    "                F.col(\"song_code\"),\n",
    "            )\n",
    "        ))).alias(\"relevant\")\n",
    "    )\n",
    ")\n",
    "relevant_1.printSchema()\n",
    "relevant_1.cache()\n",
    "relevant_1.show()"
   ]
  },
  {
   "cell_type": "code",
   "execution_count": 113,
   "metadata": {
    "scrolled": true
   },
   "outputs": [
    {
     "name": "stdout",
     "output_type": "stream",
     "text": [
      "root\n",
      " |-- user_code: integer (nullable = false)\n",
      " |-- recommendations: array (nullable = true)\n",
      " |    |-- element: integer (containsNull = true)\n",
      " |-- relevant: array (nullable = false)\n",
      " |    |-- element: integer (containsNull = true)\n",
      "\n"
     ]
    },
    {
     "data": {
      "text/html": [
       "<div>\n",
       "<style scoped>\n",
       "    .dataframe tbody tr th:only-of-type {\n",
       "        vertical-align: middle;\n",
       "    }\n",
       "\n",
       "    .dataframe tbody tr th {\n",
       "        vertical-align: top;\n",
       "    }\n",
       "\n",
       "    .dataframe thead th {\n",
       "        text-align: right;\n",
       "    }\n",
       "</style>\n",
       "<table border=\"1\" class=\"dataframe\">\n",
       "  <thead>\n",
       "    <tr style=\"text-align: right;\">\n",
       "      <th></th>\n",
       "      <th>user_code</th>\n",
       "      <th>recommendations</th>\n",
       "      <th>relevant</th>\n",
       "    </tr>\n",
       "  </thead>\n",
       "  <tbody>\n",
       "    <tr>\n",
       "      <th>0</th>\n",
       "      <td>104706</td>\n",
       "      <td>[34562, 44044, 42581, 11930, 26549, 7211, 1673...</td>\n",
       "      <td>[42442, 10138, 52150, 49135, 47201, 43198, 423...</td>\n",
       "    </tr>\n",
       "  </tbody>\n",
       "</table>\n",
       "</div>"
      ],
      "text/plain": [
       "   user_code                                    recommendations  \\\n",
       "0     104706  [34562, 44044, 42581, 11930, 26549, 7211, 1673...   \n",
       "\n",
       "                                            relevant  \n",
       "0  [42442, 10138, 52150, 49135, 47201, 43198, 423...  "
      ]
     },
     "metadata": {},
     "output_type": "display_data"
    }
   ],
   "source": [
    "# Merge recommendations \n",
    "\n",
    "comparison_1 = (\n",
    "    recommendations_1\n",
    "    .select(\n",
    "        F.col(\"user_code\"),\n",
    "        F.col(\"recommendations.song_code\").alias(\"recommendations\").astype(ArrayType(IntegerType())),\n",
    "    )\n",
    "    .join(\n",
    "        relevant_1\n",
    "        .select(\n",
    "            F.col(\"user_code\"),\n",
    "            F.col(\"relevant.song_code\").alias(\"relevant\").astype(ArrayType(IntegerType())),\n",
    "        ),\n",
    "        on=\"user_code\",\n",
    "        how=\"inner\"\n",
    "    )\n",
    ")\n",
    "comparison_1.cache()\n",
    "\n",
    "comparison_1.printSchema()\n",
    "show_as_html(comparison_1)"
   ]
  },
  {
   "cell_type": "code",
   "execution_count": 114,
   "metadata": {},
   "outputs": [],
   "source": [
    "comparison_1_p = comparison_1.toPandas()"
   ]
  },
  {
   "cell_type": "code",
   "execution_count": 115,
   "metadata": {},
   "outputs": [
    {
     "data": {
      "text/html": [
       "<div>\n",
       "<style scoped>\n",
       "    .dataframe tbody tr th:only-of-type {\n",
       "        vertical-align: middle;\n",
       "    }\n",
       "\n",
       "    .dataframe tbody tr th {\n",
       "        vertical-align: top;\n",
       "    }\n",
       "\n",
       "    .dataframe thead th {\n",
       "        text-align: right;\n",
       "    }\n",
       "</style>\n",
       "<table border=\"1\" class=\"dataframe\">\n",
       "  <thead>\n",
       "    <tr style=\"text-align: right;\">\n",
       "      <th></th>\n",
       "      <th>list_recomd</th>\n",
       "      <th>list_test</th>\n",
       "    </tr>\n",
       "  </thead>\n",
       "  <tbody>\n",
       "    <tr>\n",
       "      <th>0</th>\n",
       "      <td>34562</td>\n",
       "      <td>42442</td>\n",
       "    </tr>\n",
       "    <tr>\n",
       "      <th>1</th>\n",
       "      <td>44044</td>\n",
       "      <td>10138</td>\n",
       "    </tr>\n",
       "    <tr>\n",
       "      <th>2</th>\n",
       "      <td>42581</td>\n",
       "      <td>52150</td>\n",
       "    </tr>\n",
       "    <tr>\n",
       "      <th>3</th>\n",
       "      <td>11930</td>\n",
       "      <td>49135</td>\n",
       "    </tr>\n",
       "    <tr>\n",
       "      <th>4</th>\n",
       "      <td>26549</td>\n",
       "      <td>47201</td>\n",
       "    </tr>\n",
       "    <tr>\n",
       "      <th>5</th>\n",
       "      <td>7211</td>\n",
       "      <td>43198</td>\n",
       "    </tr>\n",
       "    <tr>\n",
       "      <th>6</th>\n",
       "      <td>16733</td>\n",
       "      <td>42333</td>\n",
       "    </tr>\n",
       "    <tr>\n",
       "      <th>7</th>\n",
       "      <td>23395</td>\n",
       "      <td>39834</td>\n",
       "    </tr>\n",
       "    <tr>\n",
       "      <th>8</th>\n",
       "      <td>19736</td>\n",
       "      <td>36861</td>\n",
       "    </tr>\n",
       "    <tr>\n",
       "      <th>9</th>\n",
       "      <td>30859</td>\n",
       "      <td>36241</td>\n",
       "    </tr>\n",
       "    <tr>\n",
       "      <th>10</th>\n",
       "      <td>35890</td>\n",
       "      <td>35849</td>\n",
       "    </tr>\n",
       "    <tr>\n",
       "      <th>11</th>\n",
       "      <td>1119</td>\n",
       "      <td>24477</td>\n",
       "    </tr>\n",
       "    <tr>\n",
       "      <th>12</th>\n",
       "      <td>30286</td>\n",
       "      <td>19728</td>\n",
       "    </tr>\n",
       "    <tr>\n",
       "      <th>13</th>\n",
       "      <td>35872</td>\n",
       "      <td>17806</td>\n",
       "    </tr>\n",
       "    <tr>\n",
       "      <th>14</th>\n",
       "      <td>27805</td>\n",
       "      <td>16676</td>\n",
       "    </tr>\n",
       "    <tr>\n",
       "      <th>15</th>\n",
       "      <td>NaN</td>\n",
       "      <td>9400</td>\n",
       "    </tr>\n",
       "    <tr>\n",
       "      <th>16</th>\n",
       "      <td>NaN</td>\n",
       "      <td>6320</td>\n",
       "    </tr>\n",
       "    <tr>\n",
       "      <th>17</th>\n",
       "      <td>NaN</td>\n",
       "      <td>55628</td>\n",
       "    </tr>\n",
       "    <tr>\n",
       "      <th>18</th>\n",
       "      <td>NaN</td>\n",
       "      <td>55177</td>\n",
       "    </tr>\n",
       "    <tr>\n",
       "      <th>19</th>\n",
       "      <td>NaN</td>\n",
       "      <td>54728</td>\n",
       "    </tr>\n",
       "    <tr>\n",
       "      <th>20</th>\n",
       "      <td>NaN</td>\n",
       "      <td>54263</td>\n",
       "    </tr>\n",
       "    <tr>\n",
       "      <th>21</th>\n",
       "      <td>NaN</td>\n",
       "      <td>53542</td>\n",
       "    </tr>\n",
       "    <tr>\n",
       "      <th>22</th>\n",
       "      <td>NaN</td>\n",
       "      <td>53314</td>\n",
       "    </tr>\n",
       "    <tr>\n",
       "      <th>23</th>\n",
       "      <td>NaN</td>\n",
       "      <td>52952</td>\n",
       "    </tr>\n",
       "    <tr>\n",
       "      <th>24</th>\n",
       "      <td>NaN</td>\n",
       "      <td>52493</td>\n",
       "    </tr>\n",
       "    <tr>\n",
       "      <th>25</th>\n",
       "      <td>NaN</td>\n",
       "      <td>52287</td>\n",
       "    </tr>\n",
       "    <tr>\n",
       "      <th>26</th>\n",
       "      <td>NaN</td>\n",
       "      <td>52258</td>\n",
       "    </tr>\n",
       "    <tr>\n",
       "      <th>27</th>\n",
       "      <td>NaN</td>\n",
       "      <td>51526</td>\n",
       "    </tr>\n",
       "    <tr>\n",
       "      <th>28</th>\n",
       "      <td>NaN</td>\n",
       "      <td>50919</td>\n",
       "    </tr>\n",
       "    <tr>\n",
       "      <th>29</th>\n",
       "      <td>NaN</td>\n",
       "      <td>50705</td>\n",
       "    </tr>\n",
       "    <tr>\n",
       "      <th>...</th>\n",
       "      <td>...</td>\n",
       "      <td>...</td>\n",
       "    </tr>\n",
       "    <tr>\n",
       "      <th>134</th>\n",
       "      <td>NaN</td>\n",
       "      <td>11907</td>\n",
       "    </tr>\n",
       "    <tr>\n",
       "      <th>135</th>\n",
       "      <td>NaN</td>\n",
       "      <td>11114</td>\n",
       "    </tr>\n",
       "    <tr>\n",
       "      <th>136</th>\n",
       "      <td>NaN</td>\n",
       "      <td>10897</td>\n",
       "    </tr>\n",
       "    <tr>\n",
       "      <th>137</th>\n",
       "      <td>NaN</td>\n",
       "      <td>10795</td>\n",
       "    </tr>\n",
       "    <tr>\n",
       "      <th>138</th>\n",
       "      <td>NaN</td>\n",
       "      <td>10521</td>\n",
       "    </tr>\n",
       "    <tr>\n",
       "      <th>139</th>\n",
       "      <td>NaN</td>\n",
       "      <td>10482</td>\n",
       "    </tr>\n",
       "    <tr>\n",
       "      <th>140</th>\n",
       "      <td>NaN</td>\n",
       "      <td>9913</td>\n",
       "    </tr>\n",
       "    <tr>\n",
       "      <th>141</th>\n",
       "      <td>NaN</td>\n",
       "      <td>9038</td>\n",
       "    </tr>\n",
       "    <tr>\n",
       "      <th>142</th>\n",
       "      <td>NaN</td>\n",
       "      <td>8965</td>\n",
       "    </tr>\n",
       "    <tr>\n",
       "      <th>143</th>\n",
       "      <td>NaN</td>\n",
       "      <td>8902</td>\n",
       "    </tr>\n",
       "    <tr>\n",
       "      <th>144</th>\n",
       "      <td>NaN</td>\n",
       "      <td>8846</td>\n",
       "    </tr>\n",
       "    <tr>\n",
       "      <th>145</th>\n",
       "      <td>NaN</td>\n",
       "      <td>8636</td>\n",
       "    </tr>\n",
       "    <tr>\n",
       "      <th>146</th>\n",
       "      <td>NaN</td>\n",
       "      <td>7875</td>\n",
       "    </tr>\n",
       "    <tr>\n",
       "      <th>147</th>\n",
       "      <td>NaN</td>\n",
       "      <td>7859</td>\n",
       "    </tr>\n",
       "    <tr>\n",
       "      <th>148</th>\n",
       "      <td>NaN</td>\n",
       "      <td>7455</td>\n",
       "    </tr>\n",
       "    <tr>\n",
       "      <th>149</th>\n",
       "      <td>NaN</td>\n",
       "      <td>7197</td>\n",
       "    </tr>\n",
       "    <tr>\n",
       "      <th>150</th>\n",
       "      <td>NaN</td>\n",
       "      <td>7116</td>\n",
       "    </tr>\n",
       "    <tr>\n",
       "      <th>151</th>\n",
       "      <td>NaN</td>\n",
       "      <td>6853</td>\n",
       "    </tr>\n",
       "    <tr>\n",
       "      <th>152</th>\n",
       "      <td>NaN</td>\n",
       "      <td>6262</td>\n",
       "    </tr>\n",
       "    <tr>\n",
       "      <th>153</th>\n",
       "      <td>NaN</td>\n",
       "      <td>6055</td>\n",
       "    </tr>\n",
       "    <tr>\n",
       "      <th>154</th>\n",
       "      <td>NaN</td>\n",
       "      <td>5949</td>\n",
       "    </tr>\n",
       "    <tr>\n",
       "      <th>155</th>\n",
       "      <td>NaN</td>\n",
       "      <td>5807</td>\n",
       "    </tr>\n",
       "    <tr>\n",
       "      <th>156</th>\n",
       "      <td>NaN</td>\n",
       "      <td>5594</td>\n",
       "    </tr>\n",
       "    <tr>\n",
       "      <th>157</th>\n",
       "      <td>NaN</td>\n",
       "      <td>4878</td>\n",
       "    </tr>\n",
       "    <tr>\n",
       "      <th>158</th>\n",
       "      <td>NaN</td>\n",
       "      <td>3232</td>\n",
       "    </tr>\n",
       "    <tr>\n",
       "      <th>159</th>\n",
       "      <td>NaN</td>\n",
       "      <td>2941</td>\n",
       "    </tr>\n",
       "    <tr>\n",
       "      <th>160</th>\n",
       "      <td>NaN</td>\n",
       "      <td>2439</td>\n",
       "    </tr>\n",
       "    <tr>\n",
       "      <th>161</th>\n",
       "      <td>NaN</td>\n",
       "      <td>2415</td>\n",
       "    </tr>\n",
       "    <tr>\n",
       "      <th>162</th>\n",
       "      <td>NaN</td>\n",
       "      <td>2337</td>\n",
       "    </tr>\n",
       "    <tr>\n",
       "      <th>163</th>\n",
       "      <td>NaN</td>\n",
       "      <td>1634</td>\n",
       "    </tr>\n",
       "  </tbody>\n",
       "</table>\n",
       "<p>164 rows × 2 columns</p>\n",
       "</div>"
      ],
      "text/plain": [
       "    list_recomd list_test\n",
       "0         34562     42442\n",
       "1         44044     10138\n",
       "2         42581     52150\n",
       "3         11930     49135\n",
       "4         26549     47201\n",
       "5          7211     43198\n",
       "6         16733     42333\n",
       "7         23395     39834\n",
       "8         19736     36861\n",
       "9         30859     36241\n",
       "10        35890     35849\n",
       "11         1119     24477\n",
       "12        30286     19728\n",
       "13        35872     17806\n",
       "14        27805     16676\n",
       "15          NaN      9400\n",
       "16          NaN      6320\n",
       "17          NaN     55628\n",
       "18          NaN     55177\n",
       "19          NaN     54728\n",
       "20          NaN     54263\n",
       "21          NaN     53542\n",
       "22          NaN     53314\n",
       "23          NaN     52952\n",
       "24          NaN     52493\n",
       "25          NaN     52287\n",
       "26          NaN     52258\n",
       "27          NaN     51526\n",
       "28          NaN     50919\n",
       "29          NaN     50705\n",
       "..          ...       ...\n",
       "134         NaN     11907\n",
       "135         NaN     11114\n",
       "136         NaN     10897\n",
       "137         NaN     10795\n",
       "138         NaN     10521\n",
       "139         NaN     10482\n",
       "140         NaN      9913\n",
       "141         NaN      9038\n",
       "142         NaN      8965\n",
       "143         NaN      8902\n",
       "144         NaN      8846\n",
       "145         NaN      8636\n",
       "146         NaN      7875\n",
       "147         NaN      7859\n",
       "148         NaN      7455\n",
       "149         NaN      7197\n",
       "150         NaN      7116\n",
       "151         NaN      6853\n",
       "152         NaN      6262\n",
       "153         NaN      6055\n",
       "154         NaN      5949\n",
       "155         NaN      5807\n",
       "156         NaN      5594\n",
       "157         NaN      4878\n",
       "158         NaN      3232\n",
       "159         NaN      2941\n",
       "160         NaN      2439\n",
       "161         NaN      2415\n",
       "162         NaN      2337\n",
       "163         NaN      1634\n",
       "\n",
       "[164 rows x 2 columns]"
      ]
     },
     "execution_count": 115,
     "metadata": {},
     "output_type": "execute_result"
    }
   ],
   "source": [
    "comparison_1_p.columns\n",
    "\n",
    "list_recomd = pd.DataFrame( list( str(comparison_1_p.loc[0,'recommendations']).replace('[','')\n",
    "                                 .replace(']','').split(',')))\n",
    "list_test = pd.DataFrame( list( str(comparison_1_p.loc[0,'relevant']).replace('[','')\n",
    "                                 .replace(']','').split(',')))\n",
    "\n",
    "compare_1 = pd.concat([list_recomd, list_test], axis=1)\n",
    "compare_1.columns = ['list_recomd', 'list_test']\n",
    "compare_1"
   ]
  },
  {
   "cell_type": "markdown",
   "metadata": {},
   "source": [
    "(e)\n",
    "Use the test set of user-song plays and recommendations from the collaborative filtering model to compute the following metrics • Precision @ 10 • NDCG @ 10 • Mean Average Precision (MAP) Look up these metrics and explain why they are useful in evaluating the collaborate filtering model. Explore the limitations of these metrics in evaluating a collaborative filtering model or recommendation service in general. Suggest an alternative method for comparing two recommendation services in the real world."
   ]
  },
  {
   "cell_type": "code",
   "execution_count": 116,
   "metadata": {},
   "outputs": [
    {
     "name": "stdout",
     "output_type": "stream",
     "text": [
      "root\n",
      " |-- user_id: string (nullable = true)\n",
      " |-- song_id: string (nullable = true)\n",
      " |-- play_count: integer (nullable = true)\n",
      " |-- song_code: double (nullable = true)\n",
      " |-- user_code: double (nullable = true)\n",
      " |-- prediction: float (nullable = false)\n",
      "\n",
      "+--------------------+------------------+----------+---------+---------+-------------+\n",
      "|             user_id|           song_id|play_count|song_code|user_code|   prediction|\n",
      "+--------------------+------------------+----------+---------+---------+-------------+\n",
      "|c29ae8fd2c48e3142...|SOAAEKX12A6D4F7E4E|         1|     12.0| 226483.0|  0.020912442|\n",
      "|282fc5ca91b28ac48...|SOAAEKX12A6D4F7E4E|         1|     12.0|  46531.0| 0.0032266434|\n",
      "|6eb129b20f5b473b0...|SOAAEKX12A6D4F7E4E|         2|     12.0| 128537.0| 0.0042245993|\n",
      "|14ac74ac4d09240a6...|SOAAEKX12A6D4F7E4E|         1|     12.0|  23734.0| 0.0017103793|\n",
      "|7304f4d978b4de466...|SOAAEKX12A6D4F7E4E|         1|     12.0| 133537.0| 0.0022400485|\n",
      "|eb7a7afbc3f05ecda...|SOAAEKX12A6D4F7E4E|         1|     12.0| 274218.0|  7.438117E-4|\n",
      "|c3141d6d01418ce36...|SOAAEKX12A6D4F7E4E|         8|     12.0| 227012.0|   0.01663195|\n",
      "|a67436136c849c829...|SOAAEKX12A6D4F7E4E|         2|     12.0| 193582.0|  0.003138655|\n",
      "|c1104d7a285923365...|SOAAEKX12A6D4F7E4E|         6|     12.0| 224650.0| 0.0011243612|\n",
      "|e25bde007078abc74...|SOAAEKX12A6D4F7E4E|         1|     12.0| 263570.0| 0.0054997024|\n",
      "|050b75de08ac3356b...|SOAAEKX12A6D4F7E4E|         1|     12.0|   5817.0| 0.0016934868|\n",
      "|5517e0ea7618160fe...|SOAAEKX12A6D4F7E4E|         1|     12.0|  98773.0| 0.0032646935|\n",
      "|a23729fdacfde9e89...|SOAAEKX12A6D4F7E4E|         1|     12.0| 188565.0|  0.005492612|\n",
      "|d4d511ffd484915b0...|SOAAEKX12A6D4F7E4E|         1|     12.0| 247737.0| 0.0035689778|\n",
      "|381e2c75982690181...|SOAAEKX12A6D4F7E4E|         1|     12.0|  64931.0| 0.0010569317|\n",
      "|ab1adcfb19cf9fc0e...|SOAAEKX12A6D4F7E4E|         1|     12.0| 198974.0|  0.015226722|\n",
      "|bfd3009abf7caa91f...|SOAAEKX12A6D4F7E4E|         1|     12.0| 223208.0|  0.003798235|\n",
      "|5598ab3c765f6f385...|SOAAEKX12A6D4F7E4E|         1|     12.0|  99382.0|-4.7930915E-4|\n",
      "|598ed2dc2b27fa9ef...|SOAAEKX12A6D4F7E4E|         1|     12.0| 103952.0| 6.0979405E-4|\n",
      "|a0e5cda8f98704ad8...|SOAAEKX12A6D4F7E4E|         2|     12.0| 187044.0|  0.003917101|\n",
      "+--------------------+------------------+----------+---------+---------+-------------+\n",
      "only showing top 20 rows\n",
      "\n"
     ]
    }
   ],
   "source": [
    "pred = als_model.transform(test_df)\n",
    "pred.cache()\n",
    "\n",
    "pred.printSchema()\n",
    "pred.show()"
   ]
  },
  {
   "cell_type": "code",
   "execution_count": 117,
   "metadata": {},
   "outputs": [
    {
     "name": "stdout",
     "output_type": "stream",
     "text": [
      "root\n",
      " |-- user_code: integer (nullable = false)\n",
      " |-- recommendations: array (nullable = true)\n",
      " |    |-- element: struct (containsNull = true)\n",
      " |    |    |-- song_code: integer (nullable = true)\n",
      " |    |    |-- rating: float (nullable = true)\n",
      "\n"
     ]
    },
    {
     "data": {
      "text/html": [
       "<div>\n",
       "<style scoped>\n",
       "    .dataframe tbody tr th:only-of-type {\n",
       "        vertical-align: middle;\n",
       "    }\n",
       "\n",
       "    .dataframe tbody tr th {\n",
       "        vertical-align: top;\n",
       "    }\n",
       "\n",
       "    .dataframe thead th {\n",
       "        text-align: right;\n",
       "    }\n",
       "</style>\n",
       "<table border=\"1\" class=\"dataframe\">\n",
       "  <thead>\n",
       "    <tr style=\"text-align: right;\">\n",
       "      <th></th>\n",
       "      <th>user_code</th>\n",
       "      <th>recommendations</th>\n",
       "    </tr>\n",
       "  </thead>\n",
       "  <tbody>\n",
       "    <tr>\n",
       "      <th>0</th>\n",
       "      <td>12</td>\n",
       "      <td>[(41725, 0.23037013411521912), (42581, 0.22573...</td>\n",
       "    </tr>\n",
       "    <tr>\n",
       "      <th>1</th>\n",
       "      <td>18</td>\n",
       "      <td>[(34562, 0.23102664947509766), (16733, 0.21259...</td>\n",
       "    </tr>\n",
       "    <tr>\n",
       "      <th>2</th>\n",
       "      <td>38</td>\n",
       "      <td>[(9676, 0.5021539926528931), (41344, 0.4741265...</td>\n",
       "    </tr>\n",
       "    <tr>\n",
       "      <th>3</th>\n",
       "      <td>70</td>\n",
       "      <td>[(27357, 0.08400643616914749), (40727, 0.07312...</td>\n",
       "    </tr>\n",
       "    <tr>\n",
       "      <th>4</th>\n",
       "      <td>93</td>\n",
       "      <td>[(9676, 0.35211917757987976), (31633, 0.337439...</td>\n",
       "    </tr>\n",
       "    <tr>\n",
       "      <th>5</th>\n",
       "      <td>190</td>\n",
       "      <td>[(27357, 0.08814482390880585), (49111, 0.07939...</td>\n",
       "    </tr>\n",
       "    <tr>\n",
       "      <th>6</th>\n",
       "      <td>218</td>\n",
       "      <td>[(17580, 0.33436641097068787), (35514, 0.33349...</td>\n",
       "    </tr>\n",
       "    <tr>\n",
       "      <th>7</th>\n",
       "      <td>273</td>\n",
       "      <td>[(29480, 0.13781611621379852), (1119, 0.115473...</td>\n",
       "    </tr>\n",
       "    <tr>\n",
       "      <th>8</th>\n",
       "      <td>300</td>\n",
       "      <td>[(34562, 0.045260634273290634), (1119, 0.04496...</td>\n",
       "    </tr>\n",
       "    <tr>\n",
       "      <th>9</th>\n",
       "      <td>340</td>\n",
       "      <td>[(34867, 1.034727931022644), (44030, 1.0036746...</td>\n",
       "    </tr>\n",
       "    <tr>\n",
       "      <th>10</th>\n",
       "      <td>343</td>\n",
       "      <td>[(6414, 0.37635141611099243), (35127, 0.372981...</td>\n",
       "    </tr>\n",
       "    <tr>\n",
       "      <th>11</th>\n",
       "      <td>412</td>\n",
       "      <td>[(3531, 0.17679297924041748), (53987, 0.145542...</td>\n",
       "    </tr>\n",
       "    <tr>\n",
       "      <th>12</th>\n",
       "      <td>434</td>\n",
       "      <td>[(2034, 0.06586570292711258), (31002, 0.056130...</td>\n",
       "    </tr>\n",
       "    <tr>\n",
       "      <th>13</th>\n",
       "      <td>475</td>\n",
       "      <td>[(29480, 0.34400811791419983), (35127, 0.31557...</td>\n",
       "    </tr>\n",
       "    <tr>\n",
       "      <th>14</th>\n",
       "      <td>536</td>\n",
       "      <td>[(26990, 0.0643322765827179), (16363, 0.064221...</td>\n",
       "    </tr>\n",
       "    <tr>\n",
       "      <th>15</th>\n",
       "      <td>585</td>\n",
       "      <td>[(2034, 0.621716320514679), (23499, 0.55927908...</td>\n",
       "    </tr>\n",
       "    <tr>\n",
       "      <th>16</th>\n",
       "      <td>600</td>\n",
       "      <td>[(4038, 0.3778083324432373), (7775, 0.34659808...</td>\n",
       "    </tr>\n",
       "    <tr>\n",
       "      <th>17</th>\n",
       "      <td>611</td>\n",
       "      <td>[(29683, 0.2429814338684082), (20212, 0.234727...</td>\n",
       "    </tr>\n",
       "    <tr>\n",
       "      <th>18</th>\n",
       "      <td>615</td>\n",
       "      <td>[(9676, 0.3912971019744873), (3531, 0.35271137...</td>\n",
       "    </tr>\n",
       "    <tr>\n",
       "      <th>19</th>\n",
       "      <td>619</td>\n",
       "      <td>[(2034, 0.6144342422485352), (33339, 0.5897285...</td>\n",
       "    </tr>\n",
       "  </tbody>\n",
       "</table>\n",
       "</div>"
      ],
      "text/plain": [
       "    user_code                                    recommendations\n",
       "0          12  [(41725, 0.23037013411521912), (42581, 0.22573...\n",
       "1          18  [(34562, 0.23102664947509766), (16733, 0.21259...\n",
       "2          38  [(9676, 0.5021539926528931), (41344, 0.4741265...\n",
       "3          70  [(27357, 0.08400643616914749), (40727, 0.07312...\n",
       "4          93  [(9676, 0.35211917757987976), (31633, 0.337439...\n",
       "5         190  [(27357, 0.08814482390880585), (49111, 0.07939...\n",
       "6         218  [(17580, 0.33436641097068787), (35514, 0.33349...\n",
       "7         273  [(29480, 0.13781611621379852), (1119, 0.115473...\n",
       "8         300  [(34562, 0.045260634273290634), (1119, 0.04496...\n",
       "9         340  [(34867, 1.034727931022644), (44030, 1.0036746...\n",
       "10        343  [(6414, 0.37635141611099243), (35127, 0.372981...\n",
       "11        412  [(3531, 0.17679297924041748), (53987, 0.145542...\n",
       "12        434  [(2034, 0.06586570292711258), (31002, 0.056130...\n",
       "13        475  [(29480, 0.34400811791419983), (35127, 0.31557...\n",
       "14        536  [(26990, 0.0643322765827179), (16363, 0.064221...\n",
       "15        585  [(2034, 0.621716320514679), (23499, 0.55927908...\n",
       "16        600  [(4038, 0.3778083324432373), (7775, 0.34659808...\n",
       "17        611  [(29683, 0.2429814338684082), (20212, 0.234727...\n",
       "18        615  [(9676, 0.3912971019744873), (3531, 0.35271137...\n",
       "19        619  [(2034, 0.6144342422485352), (33339, 0.5897285..."
      ]
     },
     "metadata": {},
     "output_type": "display_data"
    }
   ],
   "source": [
    "# Generate recommendations\n",
    "k = 10\n",
    "\n",
    "recommendations = als_model.recommendForAllUsers(k)\n",
    "\n",
    "recommendations.printSchema()\n",
    "show_as_html(recommendations)"
   ]
  },
  {
   "cell_type": "code",
   "execution_count": 118,
   "metadata": {},
   "outputs": [
    {
     "name": "stdout",
     "output_type": "stream",
     "text": [
      "root\n",
      " |-- user_code: double (nullable = true)\n",
      " |-- relevant: array (nullable = false)\n",
      " |    |-- element: struct (containsNull = false)\n",
      " |    |    |-- play_count: integer (nullable = true)\n",
      " |    |    |-- song_code: double (nullable = true)\n",
      "\n"
     ]
    },
    {
     "data": {
      "text/html": [
       "<div>\n",
       "<style scoped>\n",
       "    .dataframe tbody tr th:only-of-type {\n",
       "        vertical-align: middle;\n",
       "    }\n",
       "\n",
       "    .dataframe tbody tr th {\n",
       "        vertical-align: top;\n",
       "    }\n",
       "\n",
       "    .dataframe thead th {\n",
       "        text-align: right;\n",
       "    }\n",
       "</style>\n",
       "<table border=\"1\" class=\"dataframe\">\n",
       "  <thead>\n",
       "    <tr style=\"text-align: right;\">\n",
       "      <th></th>\n",
       "      <th>user_code</th>\n",
       "      <th>relevant</th>\n",
       "    </tr>\n",
       "  </thead>\n",
       "  <tbody>\n",
       "    <tr>\n",
       "      <th>0</th>\n",
       "      <td>6.0</td>\n",
       "      <td>[(4, 1569.0), (3, 10323.0), (2, 34976.0), (2, ...</td>\n",
       "    </tr>\n",
       "    <tr>\n",
       "      <th>1</th>\n",
       "      <td>13.0</td>\n",
       "      <td>[(2, 298.0), (1, 50113.0), (1, 44015.0), (1, 4...</td>\n",
       "    </tr>\n",
       "    <tr>\n",
       "      <th>2</th>\n",
       "      <td>99.0</td>\n",
       "      <td>[(1, 55198.0), (1, 50978.0), (1, 46093.0), (1,...</td>\n",
       "    </tr>\n",
       "    <tr>\n",
       "      <th>3</th>\n",
       "      <td>106.0</td>\n",
       "      <td>[(6, 11102.0), (5, 35097.0), (5, 27454.0), (4,...</td>\n",
       "    </tr>\n",
       "    <tr>\n",
       "      <th>4</th>\n",
       "      <td>122.0</td>\n",
       "      <td>[(15, 25770.0), (9, 15354.0), (9, 13186.0), (8...</td>\n",
       "    </tr>\n",
       "    <tr>\n",
       "      <th>5</th>\n",
       "      <td>194.0</td>\n",
       "      <td>[(2, 35186.0), (2, 13310.0), (2, 9891.0), (1, ...</td>\n",
       "    </tr>\n",
       "    <tr>\n",
       "      <th>6</th>\n",
       "      <td>196.0</td>\n",
       "      <td>[(11, 45882.0), (5, 45948.0), (5, 298.0), (3, ...</td>\n",
       "    </tr>\n",
       "    <tr>\n",
       "      <th>7</th>\n",
       "      <td>209.0</td>\n",
       "      <td>[(2, 33229.0), (1, 38220.0), (1, 18042.0), (1,...</td>\n",
       "    </tr>\n",
       "    <tr>\n",
       "      <th>8</th>\n",
       "      <td>215.0</td>\n",
       "      <td>[(7, 31200.0), (7, 15001.0), (5, 32795.0), (3,...</td>\n",
       "    </tr>\n",
       "    <tr>\n",
       "      <th>9</th>\n",
       "      <td>350.0</td>\n",
       "      <td>[(7, 30280.0), (6, 40273.0), (2, 17151.0), (1,...</td>\n",
       "    </tr>\n",
       "    <tr>\n",
       "      <th>10</th>\n",
       "      <td>355.0</td>\n",
       "      <td>[(5, 19331.0), (4, 53688.0), (4, 38657.0), (3,...</td>\n",
       "    </tr>\n",
       "    <tr>\n",
       "      <th>11</th>\n",
       "      <td>364.0</td>\n",
       "      <td>[(2, 47813.0), (2, 23553.0), (1, 55265.0), (1,...</td>\n",
       "    </tr>\n",
       "    <tr>\n",
       "      <th>12</th>\n",
       "      <td>365.0</td>\n",
       "      <td>[(10, 29630.0), (7, 51979.0), (7, 10806.0), (5...</td>\n",
       "    </tr>\n",
       "    <tr>\n",
       "      <th>13</th>\n",
       "      <td>369.0</td>\n",
       "      <td>[(3, 14809.0), (2, 49132.0), (2, 41827.0), (2,...</td>\n",
       "    </tr>\n",
       "    <tr>\n",
       "      <th>14</th>\n",
       "      <td>411.0</td>\n",
       "      <td>[(5, 54382.0), (5, 29369.0), (3, 54722.0), (1,...</td>\n",
       "    </tr>\n",
       "    <tr>\n",
       "      <th>15</th>\n",
       "      <td>480.0</td>\n",
       "      <td>[(8, 12638.0), (7, 30179.0), (6, 45031.0), (6,...</td>\n",
       "    </tr>\n",
       "    <tr>\n",
       "      <th>16</th>\n",
       "      <td>485.0</td>\n",
       "      <td>[(10, 43470.0), (10, 36892.0), (9, 16407.0), (...</td>\n",
       "    </tr>\n",
       "    <tr>\n",
       "      <th>17</th>\n",
       "      <td>490.0</td>\n",
       "      <td>[(2, 44821.0), (2, 34196.0), (2, 24515.0), (1,...</td>\n",
       "    </tr>\n",
       "    <tr>\n",
       "      <th>18</th>\n",
       "      <td>496.0</td>\n",
       "      <td>[(18, 24193.0), (16, 47130.0), (12, 19295.0), ...</td>\n",
       "    </tr>\n",
       "    <tr>\n",
       "      <th>19</th>\n",
       "      <td>497.0</td>\n",
       "      <td>[(9, 34807.0), (4, 50430.0), (1, 47212.0), (1,...</td>\n",
       "    </tr>\n",
       "  </tbody>\n",
       "</table>\n",
       "</div>"
      ],
      "text/plain": [
       "    user_code                                           relevant\n",
       "0         6.0  [(4, 1569.0), (3, 10323.0), (2, 34976.0), (2, ...\n",
       "1        13.0  [(2, 298.0), (1, 50113.0), (1, 44015.0), (1, 4...\n",
       "2        99.0  [(1, 55198.0), (1, 50978.0), (1, 46093.0), (1,...\n",
       "3       106.0  [(6, 11102.0), (5, 35097.0), (5, 27454.0), (4,...\n",
       "4       122.0  [(15, 25770.0), (9, 15354.0), (9, 13186.0), (8...\n",
       "5       194.0  [(2, 35186.0), (2, 13310.0), (2, 9891.0), (1, ...\n",
       "6       196.0  [(11, 45882.0), (5, 45948.0), (5, 298.0), (3, ...\n",
       "7       209.0  [(2, 33229.0), (1, 38220.0), (1, 18042.0), (1,...\n",
       "8       215.0  [(7, 31200.0), (7, 15001.0), (5, 32795.0), (3,...\n",
       "9       350.0  [(7, 30280.0), (6, 40273.0), (2, 17151.0), (1,...\n",
       "10      355.0  [(5, 19331.0), (4, 53688.0), (4, 38657.0), (3,...\n",
       "11      364.0  [(2, 47813.0), (2, 23553.0), (1, 55265.0), (1,...\n",
       "12      365.0  [(10, 29630.0), (7, 51979.0), (7, 10806.0), (5...\n",
       "13      369.0  [(3, 14809.0), (2, 49132.0), (2, 41827.0), (2,...\n",
       "14      411.0  [(5, 54382.0), (5, 29369.0), (3, 54722.0), (1,...\n",
       "15      480.0  [(8, 12638.0), (7, 30179.0), (6, 45031.0), (6,...\n",
       "16      485.0  [(10, 43470.0), (10, 36892.0), (9, 16407.0), (...\n",
       "17      490.0  [(2, 44821.0), (2, 34196.0), (2, 24515.0), (1,...\n",
       "18      496.0  [(18, 24193.0), (16, 47130.0), (12, 19295.0), ...\n",
       "19      497.0  [(9, 34807.0), (4, 50430.0), (1, 47212.0), (1,..."
      ]
     },
     "metadata": {},
     "output_type": "display_data"
    }
   ],
   "source": [
    "relevant = (\n",
    "    test_df\n",
    "    .groupBy(\"user_code\")\n",
    "    .agg(\n",
    "        F.reverse(F.sort_array(F.collect_list(\n",
    "            F.struct(\n",
    "                F.col(\"play_count\"),\n",
    "                F.col(\"song_code\"),\n",
    "            )\n",
    "        ))).alias(\"relevant\")\n",
    "    )\n",
    ")\n",
    "relevant.printSchema()\n",
    "relevant.cache()\n",
    "show_as_html(relevant)"
   ]
  },
  {
   "cell_type": "code",
   "execution_count": 119,
   "metadata": {},
   "outputs": [
    {
     "name": "stdout",
     "output_type": "stream",
     "text": [
      "root\n",
      " |-- user_code: integer (nullable = false)\n",
      " |-- recommendations: array (nullable = true)\n",
      " |    |-- element: double (containsNull = true)\n",
      " |-- relevant: array (nullable = false)\n",
      " |    |-- element: double (containsNull = true)\n",
      "\n"
     ]
    },
    {
     "data": {
      "text/html": [
       "<div>\n",
       "<style scoped>\n",
       "    .dataframe tbody tr th:only-of-type {\n",
       "        vertical-align: middle;\n",
       "    }\n",
       "\n",
       "    .dataframe tbody tr th {\n",
       "        vertical-align: top;\n",
       "    }\n",
       "\n",
       "    .dataframe thead th {\n",
       "        text-align: right;\n",
       "    }\n",
       "</style>\n",
       "<table border=\"1\" class=\"dataframe\">\n",
       "  <thead>\n",
       "    <tr style=\"text-align: right;\">\n",
       "      <th></th>\n",
       "      <th>user_code</th>\n",
       "      <th>recommendations</th>\n",
       "      <th>relevant</th>\n",
       "    </tr>\n",
       "  </thead>\n",
       "  <tbody>\n",
       "    <tr>\n",
       "      <th>0</th>\n",
       "      <td>12</td>\n",
       "      <td>[41725.0, 42581.0, 9676.0, 3531.0, 41344.0, 12...</td>\n",
       "      <td>[25893.0, 13941.0, 11695.0, 7211.0, 3835.0, 41...</td>\n",
       "    </tr>\n",
       "    <tr>\n",
       "      <th>1</th>\n",
       "      <td>18</td>\n",
       "      <td>[34562.0, 16733.0, 25610.0, 31684.0, 27805.0, ...</td>\n",
       "      <td>[30871.0, 27746.0, 45907.0, 41366.0, 23362.0, ...</td>\n",
       "    </tr>\n",
       "    <tr>\n",
       "      <th>2</th>\n",
       "      <td>38</td>\n",
       "      <td>[9676.0, 41344.0, 31633.0, 34867.0, 3531.0, 12...</td>\n",
       "      <td>[46714.0, 31633.0, 9791.0, 3531.0, 41492.0, 35...</td>\n",
       "    </tr>\n",
       "    <tr>\n",
       "      <th>3</th>\n",
       "      <td>70</td>\n",
       "      <td>[27357.0, 40727.0, 49111.0, 34867.0, 24228.0, ...</td>\n",
       "      <td>[52601.0, 33099.0, 4065.0, 33081.0, 52247.0, 5...</td>\n",
       "    </tr>\n",
       "    <tr>\n",
       "      <th>4</th>\n",
       "      <td>93</td>\n",
       "      <td>[9676.0, 31633.0, 27040.0, 34867.0, 34494.0, 5...</td>\n",
       "      <td>[25566.0, 22201.0, 23905.0, 8433.0, 38744.0, 3...</td>\n",
       "    </tr>\n",
       "    <tr>\n",
       "      <th>5</th>\n",
       "      <td>190</td>\n",
       "      <td>[27357.0, 49111.0, 34867.0, 31684.0, 48110.0, ...</td>\n",
       "      <td>[2619.0, 1304.0, 36756.0, 31785.0, 27469.0, 24...</td>\n",
       "    </tr>\n",
       "    <tr>\n",
       "      <th>6</th>\n",
       "      <td>218</td>\n",
       "      <td>[17580.0, 35514.0, 3552.0, 29480.0, 44654.0, 7...</td>\n",
       "      <td>[1267.0, 53057.0, 5702.0, 16798.0, 43631.0, 19...</td>\n",
       "    </tr>\n",
       "    <tr>\n",
       "      <th>7</th>\n",
       "      <td>273</td>\n",
       "      <td>[29480.0, 1119.0, 35514.0, 35127.0, 23499.0, 3...</td>\n",
       "      <td>[18511.0, 30165.0, 5296.0, 42678.0, 2023.0, 53...</td>\n",
       "    </tr>\n",
       "    <tr>\n",
       "      <th>8</th>\n",
       "      <td>300</td>\n",
       "      <td>[34562.0, 1119.0, 35872.0, 35127.0, 29480.0, 2...</td>\n",
       "      <td>[17617.0, 32488.0, 19690.0, 12748.0, 398.0, 53...</td>\n",
       "    </tr>\n",
       "    <tr>\n",
       "      <th>9</th>\n",
       "      <td>340</td>\n",
       "      <td>[34867.0, 44030.0, 9676.0, 31633.0, 12366.0, 1...</td>\n",
       "      <td>[34867.0, 37838.0, 41450.0, 43875.0, 38621.0, ...</td>\n",
       "    </tr>\n",
       "    <tr>\n",
       "      <th>10</th>\n",
       "      <td>343</td>\n",
       "      <td>[6414.0, 35127.0, 23499.0, 47813.0, 47960.0, 5...</td>\n",
       "      <td>[40396.0, 24467.0, 37731.0, 15045.0, 13634.0, ...</td>\n",
       "    </tr>\n",
       "    <tr>\n",
       "      <th>11</th>\n",
       "      <td>412</td>\n",
       "      <td>[3531.0, 53987.0, 45854.0, 33355.0, 21813.0, 2...</td>\n",
       "      <td>[42548.0, 34058.0, 30513.0, 9045.0, 48533.0, 3...</td>\n",
       "    </tr>\n",
       "    <tr>\n",
       "      <th>12</th>\n",
       "      <td>434</td>\n",
       "      <td>[2034.0, 31002.0, 25155.0, 3531.0, 43286.0, 47...</td>\n",
       "      <td>[26385.0, 7398.0, 49310.0, 45900.0, 45096.0, 4...</td>\n",
       "    </tr>\n",
       "    <tr>\n",
       "      <th>13</th>\n",
       "      <td>475</td>\n",
       "      <td>[29480.0, 35127.0, 1119.0, 23499.0, 6414.0, 35...</td>\n",
       "      <td>[47130.0, 50090.0, 47532.0, 27363.0, 19543.0, ...</td>\n",
       "    </tr>\n",
       "    <tr>\n",
       "      <th>14</th>\n",
       "      <td>536</td>\n",
       "      <td>[26990.0, 16363.0, 53840.0, 2034.0, 35463.0, 2...</td>\n",
       "      <td>[8837.0, 14068.0, 50273.0, 38371.0, 34790.0, 1...</td>\n",
       "    </tr>\n",
       "    <tr>\n",
       "      <th>15</th>\n",
       "      <td>585</td>\n",
       "      <td>[2034.0, 23499.0, 35127.0, 6414.0, 3491.0, 310...</td>\n",
       "      <td>[31535.0, 44439.0, 24148.0, 12366.0, 14017.0, ...</td>\n",
       "    </tr>\n",
       "    <tr>\n",
       "      <th>16</th>\n",
       "      <td>600</td>\n",
       "      <td>[4038.0, 7775.0, 928.0, 37455.0, 33044.0, 4201...</td>\n",
       "      <td>[55265.0, 47515.0, 43915.0, 39139.0, 31460.0, ...</td>\n",
       "    </tr>\n",
       "    <tr>\n",
       "      <th>17</th>\n",
       "      <td>611</td>\n",
       "      <td>[29683.0, 20212.0, 1228.0, 55265.0, 5493.0, 25...</td>\n",
       "      <td>[52304.0, 41384.0, 23525.0, 29816.0, 25283.0, ...</td>\n",
       "    </tr>\n",
       "    <tr>\n",
       "      <th>18</th>\n",
       "      <td>615</td>\n",
       "      <td>[9676.0, 3531.0, 41344.0, 43844.0, 45854.0, 31...</td>\n",
       "      <td>[53963.0, 43122.0, 4360.0, 54809.0, 54297.0, 4...</td>\n",
       "    </tr>\n",
       "    <tr>\n",
       "      <th>19</th>\n",
       "      <td>619</td>\n",
       "      <td>[2034.0, 33339.0, 23499.0, 47813.0, 51458.0, 3...</td>\n",
       "      <td>[23717.0, 33577.0, 33412.0, 1850.0, 53187.0, 3...</td>\n",
       "    </tr>\n",
       "  </tbody>\n",
       "</table>\n",
       "</div>"
      ],
      "text/plain": [
       "    user_code                                    recommendations  \\\n",
       "0          12  [41725.0, 42581.0, 9676.0, 3531.0, 41344.0, 12...   \n",
       "1          18  [34562.0, 16733.0, 25610.0, 31684.0, 27805.0, ...   \n",
       "2          38  [9676.0, 41344.0, 31633.0, 34867.0, 3531.0, 12...   \n",
       "3          70  [27357.0, 40727.0, 49111.0, 34867.0, 24228.0, ...   \n",
       "4          93  [9676.0, 31633.0, 27040.0, 34867.0, 34494.0, 5...   \n",
       "5         190  [27357.0, 49111.0, 34867.0, 31684.0, 48110.0, ...   \n",
       "6         218  [17580.0, 35514.0, 3552.0, 29480.0, 44654.0, 7...   \n",
       "7         273  [29480.0, 1119.0, 35514.0, 35127.0, 23499.0, 3...   \n",
       "8         300  [34562.0, 1119.0, 35872.0, 35127.0, 29480.0, 2...   \n",
       "9         340  [34867.0, 44030.0, 9676.0, 31633.0, 12366.0, 1...   \n",
       "10        343  [6414.0, 35127.0, 23499.0, 47813.0, 47960.0, 5...   \n",
       "11        412  [3531.0, 53987.0, 45854.0, 33355.0, 21813.0, 2...   \n",
       "12        434  [2034.0, 31002.0, 25155.0, 3531.0, 43286.0, 47...   \n",
       "13        475  [29480.0, 35127.0, 1119.0, 23499.0, 6414.0, 35...   \n",
       "14        536  [26990.0, 16363.0, 53840.0, 2034.0, 35463.0, 2...   \n",
       "15        585  [2034.0, 23499.0, 35127.0, 6414.0, 3491.0, 310...   \n",
       "16        600  [4038.0, 7775.0, 928.0, 37455.0, 33044.0, 4201...   \n",
       "17        611  [29683.0, 20212.0, 1228.0, 55265.0, 5493.0, 25...   \n",
       "18        615  [9676.0, 3531.0, 41344.0, 43844.0, 45854.0, 31...   \n",
       "19        619  [2034.0, 33339.0, 23499.0, 47813.0, 51458.0, 3...   \n",
       "\n",
       "                                             relevant  \n",
       "0   [25893.0, 13941.0, 11695.0, 7211.0, 3835.0, 41...  \n",
       "1   [30871.0, 27746.0, 45907.0, 41366.0, 23362.0, ...  \n",
       "2   [46714.0, 31633.0, 9791.0, 3531.0, 41492.0, 35...  \n",
       "3   [52601.0, 33099.0, 4065.0, 33081.0, 52247.0, 5...  \n",
       "4   [25566.0, 22201.0, 23905.0, 8433.0, 38744.0, 3...  \n",
       "5   [2619.0, 1304.0, 36756.0, 31785.0, 27469.0, 24...  \n",
       "6   [1267.0, 53057.0, 5702.0, 16798.0, 43631.0, 19...  \n",
       "7   [18511.0, 30165.0, 5296.0, 42678.0, 2023.0, 53...  \n",
       "8   [17617.0, 32488.0, 19690.0, 12748.0, 398.0, 53...  \n",
       "9   [34867.0, 37838.0, 41450.0, 43875.0, 38621.0, ...  \n",
       "10  [40396.0, 24467.0, 37731.0, 15045.0, 13634.0, ...  \n",
       "11  [42548.0, 34058.0, 30513.0, 9045.0, 48533.0, 3...  \n",
       "12  [26385.0, 7398.0, 49310.0, 45900.0, 45096.0, 4...  \n",
       "13  [47130.0, 50090.0, 47532.0, 27363.0, 19543.0, ...  \n",
       "14  [8837.0, 14068.0, 50273.0, 38371.0, 34790.0, 1...  \n",
       "15  [31535.0, 44439.0, 24148.0, 12366.0, 14017.0, ...  \n",
       "16  [55265.0, 47515.0, 43915.0, 39139.0, 31460.0, ...  \n",
       "17  [52304.0, 41384.0, 23525.0, 29816.0, 25283.0, ...  \n",
       "18  [53963.0, 43122.0, 4360.0, 54809.0, 54297.0, 4...  \n",
       "19  [23717.0, 33577.0, 33412.0, 1850.0, 53187.0, 3...  "
      ]
     },
     "metadata": {},
     "output_type": "display_data"
    }
   ],
   "source": [
    "# Merge recommendations and relevant items so they can be compared\n",
    "\n",
    "temp = (\n",
    "    recommendations\n",
    "    .select(\n",
    "        F.col(\"user_code\"),\n",
    "        F.col(\"recommendations.song_code\").alias(\"recommendations\").astype(ArrayType(DoubleType())),\n",
    "    )\n",
    "    .join(\n",
    "        relevant\n",
    "        .select(\n",
    "            F.col(\"user_code\"),\n",
    "            F.col(\"relevant.song_code\").alias(\"relevant\").astype(ArrayType(DoubleType())),\n",
    "        ),\n",
    "        on=\"user_code\",\n",
    "        how=\"inner\"\n",
    "    )\n",
    ")\n",
    "temp.cache()\n",
    "\n",
    "temp.printSchema()\n",
    "show_as_html(temp)"
   ]
  },
  {
   "cell_type": "code",
   "execution_count": 68,
   "metadata": {},
   "outputs": [
    {
     "name": "stdout",
     "output_type": "stream",
     "text": [
      "metrics\n",
      "precision 0.04772\n",
      "MAP 0.01947\n",
      "NDCG  0.05125\n"
     ]
    }
   ],
   "source": [
    "from pyspark.ml.evaluation import RankingEvaluator\n",
    "\n",
    "k = 10\n",
    "\n",
    "evaluator = RankingEvaluator(predictionCol=\"recommendations\", labelCol=\"relevant\")\n",
    "\n",
    "precisionAtK = evaluator.evaluate(temp, {evaluator.metricName: \"precisionAtK\",            evaluator.k: k})\n",
    "mapAtK       = evaluator.evaluate(temp, {evaluator.metricName: \"meanAveragePrecisionAtK\", evaluator.k: k})\n",
    "ndcgAtK      = evaluator.evaluate(temp, {evaluator.metricName: \"ndcgAtK\",                 evaluator.k: k})\n",
    "\n",
    "print(f'metrics')\n",
    "print(f'precision {precisionAtK:.5f}')\n",
    "print(f'MAP {mapAtK:.5f}')\n",
    "print(f'NDCG  {ndcgAtK:.5f}')"
   ]
  },
  {
   "cell_type": "code",
   "execution_count": 120,
   "metadata": {},
   "outputs": [
    {
     "data": {
      "text/html": [
       "<p><b>Spark</b></p><p>The spark session is <b><span style=\"color:red\">stopped</span></b>, confirm that <code>cgo82 (jupyter)</code> is under the completed applications section in the Spark UI.</p><ul><li><a href=\"http://mathmadslinux2p.canterbury.ac.nz:8080/\" target=\"_blank\">Spark UI</a></li></ul>"
      ],
      "text/plain": [
       "<IPython.core.display.HTML object>"
      ]
     },
     "metadata": {},
     "output_type": "display_data"
    }
   ],
   "source": [
    "stop_spark()"
   ]
  }
 ],
 "metadata": {
  "kernelspec": {
   "display_name": "Python 3",
   "language": "python",
   "name": "python3"
  },
  "language_info": {
   "codemirror_mode": {
    "name": "ipython",
    "version": 3
   },
   "file_extension": ".py",
   "mimetype": "text/x-python",
   "name": "python",
   "nbconvert_exporter": "python",
   "pygments_lexer": "ipython3",
   "version": "3.7.0"
  }
 },
 "nbformat": 4,
 "nbformat_minor": 2
}
